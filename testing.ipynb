{
 "cells": [
  {
   "cell_type": "code",
   "execution_count": 54,
   "id": "initial_id",
   "metadata": {
    "collapsed": true,
    "ExecuteTime": {
     "end_time": "2023-11-19T13:41:39.796931700Z",
     "start_time": "2023-11-19T13:41:39.782926800Z"
    }
   },
   "outputs": [],
   "source": [
    "import pandas as pd\n",
    "import yfinance as yf\n",
    "import importlib\n",
    "from pca_dax import data_handler as dh\n",
    "from pca_dax import db"
   ]
  },
  {
   "cell_type": "code",
   "execution_count": 25,
   "outputs": [],
   "source": [
    "dax = pd.read_html('https://en.wikipedia.org/wiki/DAX'\n",
    "             , attrs={'id': 'constituents'})[0]['Ticker'].to_list()"
   ],
   "metadata": {
    "collapsed": false,
    "ExecuteTime": {
     "end_time": "2023-11-17T00:45:31.969353900Z",
     "start_time": "2023-11-17T00:45:31.536293200Z"
    }
   },
   "id": "70d95f16e9779107"
  },
  {
   "cell_type": "code",
   "execution_count": 17,
   "outputs": [],
   "source": [
    "mdax = pd.read_html('https://en.wikipedia.org/wiki/MDAX'\n",
    "             , attrs={'id': 'constituents'})[0]['Symbol'].to_list() "
   ],
   "metadata": {
    "collapsed": false,
    "ExecuteTime": {
     "end_time": "2023-11-17T00:33:35.124392500Z",
     "start_time": "2023-11-17T00:33:34.763593700Z"
    }
   },
   "id": "ee3909594015b4d9"
  },
  {
   "cell_type": "code",
   "execution_count": 18,
   "outputs": [],
   "source": [
    "sdax = pd.read_html('https://en.wikipedia.org/wiki/SDAX'\n",
    "             , attrs={'id': 'constituents'})[0]['Symbol'].to_list()"
   ],
   "metadata": {
    "collapsed": false,
    "ExecuteTime": {
     "end_time": "2023-11-17T00:35:19.594941200Z",
     "start_time": "2023-11-17T00:35:19.195073400Z"
    }
   },
   "id": "af7fb6198f50b7ef"
  },
  {
   "cell_type": "code",
   "execution_count": 32,
   "outputs": [
    {
     "data": {
      "text/plain": "['TC1.DE',\n 'QH9.DE',\n 'SKB.DE',\n 'EVD.DE',\n 'KBX.DE',\n 'DRW3.DE',\n 'PUM.DE',\n 'CWC.DE',\n 'SZG.DE',\n 'PSM.DE',\n 'SAX.DE',\n 'VOS.DE',\n 'NDX1.DE',\n 'BDT.DE',\n 'AT1.DE',\n 'BVB.DE',\n 'DUE.DE',\n 'LXS.DE',\n 'HLE.DE',\n 'AAD.DE',\n 'INS.DE',\n 'WAF.DE',\n 'SANT.DE',\n 'TLX.DE',\n 'BYW6.DE',\n 'DMP.DE',\n 'TKA.DE',\n 'STM.DE',\n 'CEC.DE',\n 'PBB.DE',\n 'LPK.DE',\n 'WUW.DE',\n 'O2D.DE',\n 'SDF.DE',\n 'WCH.DE',\n 'JST.DE',\n 'HBM.DE',\n 'HYQ.DE',\n 'UTDI.DE',\n 'DEQ.DE',\n 'EVK.DE',\n 'JEN.DE',\n 'EVT.DE',\n '8TRA.DE',\n 'NDA.DE',\n 'SNH.DE',\n 'SFQ.DE',\n 'ECV.DE',\n 'PFV.DE',\n 'HFG.DE',\n 'SIX2.DE',\n 'RAA.DE',\n 'RRTL.DE',\n 'DIC.DE',\n 'CBK.DE',\n 'TEG.DE',\n 'BC8.DE',\n 'FIE.DE',\n 'GIL.DE',\n 'DBAN.DE',\n 'FRA.DE',\n 'NWO.DE',\n 'HABA.DE',\n 'FPE3.DE',\n 'SAE.DE',\n 'VTWR.DE',\n 'SOW.DE',\n 'TIMA.DE',\n 'WSU.DE',\n 'BFSA.DE',\n 'HNL.DE',\n 'RHM.DE',\n 'ZO1.DE',\n 'NEM.DE',\n 'NA9.DE',\n 'AFX.DE',\n 'SBS.DE',\n 'FNTN.DE',\n 'LHA.DE',\n 'JUN3.DE',\n 'GXI.DE',\n 'LEG.DE',\n 'CCAP.DE',\n 'LEO.DE',\n 'PAT.DE',\n 'SHA.DE',\n 'INH.DE',\n 'AOF.DE',\n 'ADV.DE',\n 'DEZ.DE',\n 'AIXA.DE',\n 'GBF.DE',\n 'G24.DE',\n 'KGX.DE',\n 'HHFA.DE',\n 'TTK.DE',\n 'G1A.DE',\n '1U1.DE',\n 'NOEJ.DE',\n 'TMV.DE',\n 'S92.DE',\n 'HBH.DE',\n 'KWS.DE',\n 'KRN.DE',\n 'SHF.DE',\n 'KCO.DE',\n 'DHER.DE',\n 'DWS.DE',\n 'EUZ.DE',\n 'VBK.DE',\n 'ADJ.DE',\n 'SZU.DE',\n 'BOSS.DE',\n 'WAC.DE']"
     },
     "execution_count": 32,
     "metadata": {},
     "output_type": "execute_result"
    }
   ],
   "source": [
    "[x + '.DE' for x in set(sum([dax, mdax, sdax], [])) if '.DE' not in x]"
   ],
   "metadata": {
    "collapsed": false,
    "ExecuteTime": {
     "end_time": "2023-11-17T00:50:41.646811700Z",
     "start_time": "2023-11-17T00:50:41.637560600Z"
    }
   },
   "id": "a56f5982a67351c4"
  },
  {
   "cell_type": "code",
   "execution_count": 37,
   "outputs": [],
   "source": [
    "tickers = set([x + '.DE' for x in sum([dax, mdax, sdax], []) if '.DE' not in x])"
   ],
   "metadata": {
    "collapsed": false,
    "ExecuteTime": {
     "end_time": "2023-11-17T01:00:53.907022700Z",
     "start_time": "2023-11-17T01:00:53.891960400Z"
    }
   },
   "id": "f39302abbc4947d8"
  },
  {
   "cell_type": "code",
   "execution_count": 39,
   "outputs": [
    {
     "name": "stdout",
     "output_type": "stream",
     "text": [
      "[*********************100%%**********************]  114 of 114 completed"
     ]
    },
    {
     "name": "stderr",
     "output_type": "stream",
     "text": [
      "\n",
      "7 Failed downloads:\n",
      "['TC1.DE', 'SNH.DE', 'SAE.DE', 'LEO.DE', 'VTWR.DE']: Exception('%ticker%: No timezone found, symbol may be delisted')\n",
      "['ZO1.DE', 'HBM.DE']: Exception('%ticker%: No price data found, symbol may be delisted (1d 2023-11-01 -> 2023-11-17)')\n"
     ]
    },
    {
     "name": "stdout",
     "output_type": "stream",
     "text": []
    },
    {
     "data": {
      "text/plain": "                        1U1.DE    8TRA.DE      AAD.DE  ADJ.DE     ADV.DE  \\\nDate                                                                       \n2023-11-01 00:00:00  16.139999  18.450001  110.400002  0.4160  19.940001   \n2023-11-02 00:00:00  16.379999  18.709999  112.599998  0.4252  19.920000   \n2023-11-03 00:00:00  16.459999  19.030001  114.599998  0.4002  20.000000   \n2023-11-06 00:00:00  16.420000  18.950001  113.400002  0.4022  19.980000   \n2023-11-07 00:00:00  17.059999  18.580000  114.400002  0.4010  19.920000   \n2023-11-08 00:00:00  16.840000  18.920000  116.199997  0.4090  19.860001   \n2023-11-09 00:00:00  16.760000  18.940001  115.400002  0.4012  19.760000   \n2023-11-10 00:00:00  16.240000  18.680000  114.599998  0.4082  19.799999   \n2023-11-13 00:00:00  16.340000  18.650000  113.199997  0.4000  19.940001   \n2023-11-14 00:00:00  16.100000  18.969999  114.599998  0.4020  19.959999   \n2023-11-15 00:00:00  15.760000  19.280001  116.800003  0.3900  19.959999   \n2023-11-16 00:00:00  15.540000  18.840000  117.000000  0.3626  19.900000   \n\n                        AFX.DE    AIXA.DE  AOF.DE  AT1.DE     BC8.DE  ...  \\\nDate                                                                  ...   \n2023-11-01 00:00:00  80.099998  26.020000   204.0   2.131  42.330002  ...   \n2023-11-02 00:00:00  82.459999  27.120001   205.0   2.238  42.810001  ...   \n2023-11-03 00:00:00  84.820000  27.740000   209.0   2.334  43.439999  ...   \n2023-11-06 00:00:00  84.120003  27.980000   209.0   2.036  42.779999  ...   \n2023-11-07 00:00:00  83.699997  27.730000   211.5   2.179  43.529999  ...   \n2023-11-08 00:00:00  84.940002  27.920000   214.0   2.065  44.619999  ...   \n2023-11-09 00:00:00  85.919998  28.129999   215.0   2.130  45.450001  ...   \n2023-11-10 00:00:00  84.519997  28.040001   216.0   2.037  43.099998  ...   \n2023-11-13 00:00:00  81.260002  28.010000   217.0   2.042  44.770000  ...   \n2023-11-14 00:00:00  86.980003  28.690001   219.0   2.343  46.790001  ...   \n2023-11-15 00:00:00  85.800003  29.750000   219.5   2.192  46.860001  ...   \n2023-11-16 00:00:00  86.559998  29.459999   218.5   2.146  46.959999  ...   \n\n                       UTDI.DE     VBK.DE     VOS.DE  VTWR.DE     WAC.DE  \\\nDate                                                                       \n2023-11-01 00:00:00  19.770000  30.590000  37.099998      NaN  17.200001   \n2023-11-02 00:00:00  19.620001  32.290001  37.650002      NaN  17.780001   \n2023-11-03 00:00:00  19.770000  32.349998  37.849998      NaN  18.299999   \n2023-11-06 00:00:00  20.059999  31.500000  38.049999      NaN  17.940001   \n2023-11-07 00:00:00  20.940001  30.309999  37.650002      NaN  17.900000   \n2023-11-08 00:00:00  20.299999  30.090000  38.400002      NaN  18.059999   \n2023-11-09 00:00:00  20.420000  33.790001  39.000000      NaN  17.620001   \n2023-11-10 00:00:00  18.940001  34.490002  38.849998      NaN  17.080000   \n2023-11-13 00:00:00  19.799999  35.060001  39.099998      NaN  17.180000   \n2023-11-14 00:00:00  20.000000  35.860001  39.450001      NaN  17.719999   \n2023-11-15 00:00:00  19.610001  35.299999  40.000000      NaN  18.080000   \n2023-11-16 00:00:00  19.330000  34.320000  39.750000      NaN  17.540001   \n\n                        WAF.DE      WCH.DE     WSU.DE  WUW.DE  ZO1.DE  \nDate                                                                   \n2023-11-01 00:00:00  79.500000  110.050003  30.000000   13.04     NaN  \n2023-11-02 00:00:00  83.250000  114.949997  31.700001   13.20     NaN  \n2023-11-03 00:00:00  85.199997  116.150002  32.000000   13.16     NaN  \n2023-11-06 00:00:00  85.199997  117.150002  33.400002   13.12     NaN  \n2023-11-07 00:00:00  84.199997  116.050003  32.549999   13.20     NaN  \n2023-11-08 00:00:00  83.500000  117.849998  32.799999   13.16     NaN  \n2023-11-09 00:00:00  85.849998  122.199997  32.700001   13.20     NaN  \n2023-11-10 00:00:00  83.849998  119.050003  32.599998   13.12     NaN  \n2023-11-13 00:00:00  83.849998  118.599998  32.200001   13.20     NaN  \n2023-11-14 00:00:00  86.050003  122.150002  32.549999   13.64     NaN  \n2023-11-15 00:00:00  86.500000  120.500000  33.000000   13.50     NaN  \n2023-11-16 00:00:00  86.000000  118.750000  33.900002   13.52     NaN  \n\n[12 rows x 114 columns]",
      "text/html": "<div>\n<style scoped>\n    .dataframe tbody tr th:only-of-type {\n        vertical-align: middle;\n    }\n\n    .dataframe tbody tr th {\n        vertical-align: top;\n    }\n\n    .dataframe thead th {\n        text-align: right;\n    }\n</style>\n<table border=\"1\" class=\"dataframe\">\n  <thead>\n    <tr style=\"text-align: right;\">\n      <th></th>\n      <th>1U1.DE</th>\n      <th>8TRA.DE</th>\n      <th>AAD.DE</th>\n      <th>ADJ.DE</th>\n      <th>ADV.DE</th>\n      <th>AFX.DE</th>\n      <th>AIXA.DE</th>\n      <th>AOF.DE</th>\n      <th>AT1.DE</th>\n      <th>BC8.DE</th>\n      <th>...</th>\n      <th>UTDI.DE</th>\n      <th>VBK.DE</th>\n      <th>VOS.DE</th>\n      <th>VTWR.DE</th>\n      <th>WAC.DE</th>\n      <th>WAF.DE</th>\n      <th>WCH.DE</th>\n      <th>WSU.DE</th>\n      <th>WUW.DE</th>\n      <th>ZO1.DE</th>\n    </tr>\n    <tr>\n      <th>Date</th>\n      <th></th>\n      <th></th>\n      <th></th>\n      <th></th>\n      <th></th>\n      <th></th>\n      <th></th>\n      <th></th>\n      <th></th>\n      <th></th>\n      <th></th>\n      <th></th>\n      <th></th>\n      <th></th>\n      <th></th>\n      <th></th>\n      <th></th>\n      <th></th>\n      <th></th>\n      <th></th>\n      <th></th>\n    </tr>\n  </thead>\n  <tbody>\n    <tr>\n      <th>2023-11-01 00:00:00</th>\n      <td>16.139999</td>\n      <td>18.450001</td>\n      <td>110.400002</td>\n      <td>0.4160</td>\n      <td>19.940001</td>\n      <td>80.099998</td>\n      <td>26.020000</td>\n      <td>204.0</td>\n      <td>2.131</td>\n      <td>42.330002</td>\n      <td>...</td>\n      <td>19.770000</td>\n      <td>30.590000</td>\n      <td>37.099998</td>\n      <td>NaN</td>\n      <td>17.200001</td>\n      <td>79.500000</td>\n      <td>110.050003</td>\n      <td>30.000000</td>\n      <td>13.04</td>\n      <td>NaN</td>\n    </tr>\n    <tr>\n      <th>2023-11-02 00:00:00</th>\n      <td>16.379999</td>\n      <td>18.709999</td>\n      <td>112.599998</td>\n      <td>0.4252</td>\n      <td>19.920000</td>\n      <td>82.459999</td>\n      <td>27.120001</td>\n      <td>205.0</td>\n      <td>2.238</td>\n      <td>42.810001</td>\n      <td>...</td>\n      <td>19.620001</td>\n      <td>32.290001</td>\n      <td>37.650002</td>\n      <td>NaN</td>\n      <td>17.780001</td>\n      <td>83.250000</td>\n      <td>114.949997</td>\n      <td>31.700001</td>\n      <td>13.20</td>\n      <td>NaN</td>\n    </tr>\n    <tr>\n      <th>2023-11-03 00:00:00</th>\n      <td>16.459999</td>\n      <td>19.030001</td>\n      <td>114.599998</td>\n      <td>0.4002</td>\n      <td>20.000000</td>\n      <td>84.820000</td>\n      <td>27.740000</td>\n      <td>209.0</td>\n      <td>2.334</td>\n      <td>43.439999</td>\n      <td>...</td>\n      <td>19.770000</td>\n      <td>32.349998</td>\n      <td>37.849998</td>\n      <td>NaN</td>\n      <td>18.299999</td>\n      <td>85.199997</td>\n      <td>116.150002</td>\n      <td>32.000000</td>\n      <td>13.16</td>\n      <td>NaN</td>\n    </tr>\n    <tr>\n      <th>2023-11-06 00:00:00</th>\n      <td>16.420000</td>\n      <td>18.950001</td>\n      <td>113.400002</td>\n      <td>0.4022</td>\n      <td>19.980000</td>\n      <td>84.120003</td>\n      <td>27.980000</td>\n      <td>209.0</td>\n      <td>2.036</td>\n      <td>42.779999</td>\n      <td>...</td>\n      <td>20.059999</td>\n      <td>31.500000</td>\n      <td>38.049999</td>\n      <td>NaN</td>\n      <td>17.940001</td>\n      <td>85.199997</td>\n      <td>117.150002</td>\n      <td>33.400002</td>\n      <td>13.12</td>\n      <td>NaN</td>\n    </tr>\n    <tr>\n      <th>2023-11-07 00:00:00</th>\n      <td>17.059999</td>\n      <td>18.580000</td>\n      <td>114.400002</td>\n      <td>0.4010</td>\n      <td>19.920000</td>\n      <td>83.699997</td>\n      <td>27.730000</td>\n      <td>211.5</td>\n      <td>2.179</td>\n      <td>43.529999</td>\n      <td>...</td>\n      <td>20.940001</td>\n      <td>30.309999</td>\n      <td>37.650002</td>\n      <td>NaN</td>\n      <td>17.900000</td>\n      <td>84.199997</td>\n      <td>116.050003</td>\n      <td>32.549999</td>\n      <td>13.20</td>\n      <td>NaN</td>\n    </tr>\n    <tr>\n      <th>2023-11-08 00:00:00</th>\n      <td>16.840000</td>\n      <td>18.920000</td>\n      <td>116.199997</td>\n      <td>0.4090</td>\n      <td>19.860001</td>\n      <td>84.940002</td>\n      <td>27.920000</td>\n      <td>214.0</td>\n      <td>2.065</td>\n      <td>44.619999</td>\n      <td>...</td>\n      <td>20.299999</td>\n      <td>30.090000</td>\n      <td>38.400002</td>\n      <td>NaN</td>\n      <td>18.059999</td>\n      <td>83.500000</td>\n      <td>117.849998</td>\n      <td>32.799999</td>\n      <td>13.16</td>\n      <td>NaN</td>\n    </tr>\n    <tr>\n      <th>2023-11-09 00:00:00</th>\n      <td>16.760000</td>\n      <td>18.940001</td>\n      <td>115.400002</td>\n      <td>0.4012</td>\n      <td>19.760000</td>\n      <td>85.919998</td>\n      <td>28.129999</td>\n      <td>215.0</td>\n      <td>2.130</td>\n      <td>45.450001</td>\n      <td>...</td>\n      <td>20.420000</td>\n      <td>33.790001</td>\n      <td>39.000000</td>\n      <td>NaN</td>\n      <td>17.620001</td>\n      <td>85.849998</td>\n      <td>122.199997</td>\n      <td>32.700001</td>\n      <td>13.20</td>\n      <td>NaN</td>\n    </tr>\n    <tr>\n      <th>2023-11-10 00:00:00</th>\n      <td>16.240000</td>\n      <td>18.680000</td>\n      <td>114.599998</td>\n      <td>0.4082</td>\n      <td>19.799999</td>\n      <td>84.519997</td>\n      <td>28.040001</td>\n      <td>216.0</td>\n      <td>2.037</td>\n      <td>43.099998</td>\n      <td>...</td>\n      <td>18.940001</td>\n      <td>34.490002</td>\n      <td>38.849998</td>\n      <td>NaN</td>\n      <td>17.080000</td>\n      <td>83.849998</td>\n      <td>119.050003</td>\n      <td>32.599998</td>\n      <td>13.12</td>\n      <td>NaN</td>\n    </tr>\n    <tr>\n      <th>2023-11-13 00:00:00</th>\n      <td>16.340000</td>\n      <td>18.650000</td>\n      <td>113.199997</td>\n      <td>0.4000</td>\n      <td>19.940001</td>\n      <td>81.260002</td>\n      <td>28.010000</td>\n      <td>217.0</td>\n      <td>2.042</td>\n      <td>44.770000</td>\n      <td>...</td>\n      <td>19.799999</td>\n      <td>35.060001</td>\n      <td>39.099998</td>\n      <td>NaN</td>\n      <td>17.180000</td>\n      <td>83.849998</td>\n      <td>118.599998</td>\n      <td>32.200001</td>\n      <td>13.20</td>\n      <td>NaN</td>\n    </tr>\n    <tr>\n      <th>2023-11-14 00:00:00</th>\n      <td>16.100000</td>\n      <td>18.969999</td>\n      <td>114.599998</td>\n      <td>0.4020</td>\n      <td>19.959999</td>\n      <td>86.980003</td>\n      <td>28.690001</td>\n      <td>219.0</td>\n      <td>2.343</td>\n      <td>46.790001</td>\n      <td>...</td>\n      <td>20.000000</td>\n      <td>35.860001</td>\n      <td>39.450001</td>\n      <td>NaN</td>\n      <td>17.719999</td>\n      <td>86.050003</td>\n      <td>122.150002</td>\n      <td>32.549999</td>\n      <td>13.64</td>\n      <td>NaN</td>\n    </tr>\n    <tr>\n      <th>2023-11-15 00:00:00</th>\n      <td>15.760000</td>\n      <td>19.280001</td>\n      <td>116.800003</td>\n      <td>0.3900</td>\n      <td>19.959999</td>\n      <td>85.800003</td>\n      <td>29.750000</td>\n      <td>219.5</td>\n      <td>2.192</td>\n      <td>46.860001</td>\n      <td>...</td>\n      <td>19.610001</td>\n      <td>35.299999</td>\n      <td>40.000000</td>\n      <td>NaN</td>\n      <td>18.080000</td>\n      <td>86.500000</td>\n      <td>120.500000</td>\n      <td>33.000000</td>\n      <td>13.50</td>\n      <td>NaN</td>\n    </tr>\n    <tr>\n      <th>2023-11-16 00:00:00</th>\n      <td>15.540000</td>\n      <td>18.840000</td>\n      <td>117.000000</td>\n      <td>0.3626</td>\n      <td>19.900000</td>\n      <td>86.559998</td>\n      <td>29.459999</td>\n      <td>218.5</td>\n      <td>2.146</td>\n      <td>46.959999</td>\n      <td>...</td>\n      <td>19.330000</td>\n      <td>34.320000</td>\n      <td>39.750000</td>\n      <td>NaN</td>\n      <td>17.540001</td>\n      <td>86.000000</td>\n      <td>118.750000</td>\n      <td>33.900002</td>\n      <td>13.52</td>\n      <td>NaN</td>\n    </tr>\n  </tbody>\n</table>\n<p>12 rows × 114 columns</p>\n</div>"
     },
     "execution_count": 39,
     "metadata": {},
     "output_type": "execute_result"
    }
   ],
   "source": [
    "yf.download(tickers=tickers, start='2023-11-01')['Adj Close']"
   ],
   "metadata": {
    "collapsed": false,
    "ExecuteTime": {
     "end_time": "2023-11-17T01:01:21.435042300Z",
     "start_time": "2023-11-17T01:01:19.131368600Z"
    }
   },
   "id": "de622cf57090a973"
  },
  {
   "cell_type": "code",
   "execution_count": 43,
   "outputs": [
    {
     "data": {
      "text/plain": "'Technology'"
     },
     "execution_count": 43,
     "metadata": {},
     "output_type": "execute_result"
    }
   ],
   "source": [
    "from pca_dax import yfinance_info as yfi\n",
    "\n",
    "tckr = yfi.Ticker('SAP.DE')\n",
    "tckr.info['sector']"
   ],
   "metadata": {
    "collapsed": false,
    "ExecuteTime": {
     "end_time": "2023-11-17T02:26:59.749258600Z",
     "start_time": "2023-11-17T02:26:59.000715300Z"
    }
   },
   "id": "49864892d362f9cc"
  },
  {
   "cell_type": "code",
   "execution_count": 50,
   "outputs": [],
   "source": [
    "info = tckr.info"
   ],
   "metadata": {
    "collapsed": false,
    "ExecuteTime": {
     "end_time": "2023-11-17T17:56:29.335448100Z",
     "start_time": "2023-11-17T17:56:28.692411700Z"
    }
   },
   "id": "e16791e073b6c01e"
  },
  {
   "cell_type": "code",
   "execution_count": 52,
   "outputs": [
    {
     "data": {
      "text/plain": "{'address1': 'Dietmar-Hopp-Allee 16',\n 'city': 'Walldorf',\n 'zip': '69190',\n 'country': 'Germany',\n 'phone': '49 6227 7 47474',\n 'fax': '49 6227 7 57575',\n 'website': 'https://www.sap.com',\n 'industry': 'Software - Application',\n 'industryKey': 'software-application',\n 'industryDisp': 'Software - Application',\n 'sector': 'Technology',\n 'sectorKey': 'technology',\n 'sectorDisp': 'Technology',\n 'longBusinessSummary': \"SAP SE, together with its subsidiaries, provides enterprise application software products worldwide. The company operates through Applications, Technology & Services; Qualtrics; Business Network; and Sustainability segments. It offers SAP S/4HANA that offers software capabilities for finance, risk and project management, procurement, manufacturing, supply chain and asset management, and research and development; SAP SuccessFactors solutions for human resources, including HR and payroll, talent and employee experience management, and people and workforce analytics; spend management solutions that covers direct and indirect spend, travel and expense, and external workforce management. The company also provides SAP customer experience solutions; SAP Business Technology platform that enables customers and partners to build, integrate, and extend applications in a cloud-native way; and SAP Business Network that enables companies to collaborate with trading partners for supply chain visibility. In addition, it offers SAP Signavio help customers to scan their operations to understand and improve their business process landscape; Experience Management solutions; SAP's industry cloud solutions that provides modular solutions addressing industry-specific functions; and sustainability-related solutions. The company has a partnership Google Cloud to build the future of open data and AI for enterprises. SAP SE was founded in 1972 and is headquartered in Walldorf, Germany.\",\n 'fullTimeEmployees': 106495,\n 'companyOfficers': [{'maxAge': 1,\n   'name': 'Dr. Hasso C. Plattner',\n   'age': 78,\n   'title': 'Co-Founder & Independent Chairman of the Supervisory Board',\n   'yearBorn': 1944,\n   'fiscalYear': 2022,\n   'totalPay': {'raw': 439200, 'fmt': '439.2k', 'longFmt': '439,200'},\n   'exercisedValue': {'raw': 0, 'fmt': None, 'longFmt': '0'},\n   'unexercisedValue': {'raw': 0, 'fmt': None, 'longFmt': '0'}},\n  {'maxAge': 1,\n   'name': 'Mr. Christian  Klein',\n   'age': 42,\n   'title': 'CEO & Member of Executive Board',\n   'yearBorn': 1980,\n   'fiscalYear': 2022,\n   'totalPay': {'raw': 3013500, 'fmt': '3.01M', 'longFmt': '3,013,500'},\n   'exercisedValue': {'raw': 0, 'fmt': None, 'longFmt': '0'},\n   'unexercisedValue': {'raw': 0, 'fmt': None, 'longFmt': '0'}},\n  {'maxAge': 1,\n   'name': 'Mr. Lars  Lamade',\n   'age': 51,\n   'title': 'Head of Global Sponsorships & Deputy Chairperson of the Supervisory Board',\n   'yearBorn': 1971,\n   'fiscalYear': 2022,\n   'totalPay': {'raw': 325000, 'fmt': '325k', 'longFmt': '325,000'},\n   'exercisedValue': {'raw': 0, 'fmt': None, 'longFmt': '0'},\n   'unexercisedValue': {'raw': 0, 'fmt': None, 'longFmt': '0'}},\n  {'maxAge': 1,\n   'name': 'Mr. Scott E. Russell',\n   'age': 49,\n   'title': 'Head of Customer Success Organization & Member of Executive Board',\n   'yearBorn': 1973,\n   'fiscalYear': 2022,\n   'totalPay': {'raw': 2922900, 'fmt': '2.92M', 'longFmt': '2,922,900'},\n   'exercisedValue': {'raw': 0, 'fmt': None, 'longFmt': '0'},\n   'unexercisedValue': {'raw': 0, 'fmt': None, 'longFmt': '0'}},\n  {'maxAge': 1,\n   'name': 'Mr. Thomas  Saueressig',\n   'age': 37,\n   'title': 'Lead of SAP Product Engineering & Member of Executive Board',\n   'yearBorn': 1985,\n   'fiscalYear': 2022,\n   'totalPay': {'raw': 1870600, 'fmt': '1.87M', 'longFmt': '1,870,600'},\n   'exercisedValue': {'raw': 0, 'fmt': None, 'longFmt': '0'},\n   'unexercisedValue': {'raw': 0, 'fmt': None, 'longFmt': '0'}},\n  {'maxAge': 1,\n   'name': 'Mr. Juergen  Mueller',\n   'age': 40,\n   'title': 'CTO & Member of Executive Board',\n   'yearBorn': 1982,\n   'fiscalYear': 2022,\n   'totalPay': {'raw': 1841500, 'fmt': '1.84M', 'longFmt': '1,841,500'},\n   'exercisedValue': {'raw': 0, 'fmt': None, 'longFmt': '0'},\n   'unexercisedValue': {'raw': 0, 'fmt': None, 'longFmt': '0'}},\n  {'maxAge': 1,\n   'name': 'Ms. Sabine  Bendiek',\n   'age': 55,\n   'title': 'Chief People & Operating Officer, Labor Relations Director and Member of the Executive Board',\n   'yearBorn': 1967,\n   'fiscalYear': 2022,\n   'totalPay': {'raw': 1849200, 'fmt': '1.85M', 'longFmt': '1,849,200'},\n   'exercisedValue': {'raw': 0, 'fmt': None, 'longFmt': '0'},\n   'unexercisedValue': {'raw': 0, 'fmt': None, 'longFmt': '0'}},\n  {'maxAge': 1,\n   'name': 'Ms. Julia  White',\n   'age': 49,\n   'title': 'Chief Marketing & Solutions Officer and Member of Executive Board',\n   'yearBorn': 1973,\n   'fiscalYear': 2022,\n   'totalPay': {'raw': 2959400, 'fmt': '2.96M', 'longFmt': '2,959,400'},\n   'exercisedValue': {'raw': 0, 'fmt': None, 'longFmt': '0'},\n   'unexercisedValue': {'raw': 0, 'fmt': None, 'longFmt': '0'}},\n  {'maxAge': 1,\n   'name': 'Ms. Margret  Klein-Magar',\n   'age': 58,\n   'title': 'VP, Head of SAP Alumni Relations & Member of Supervisory Board',\n   'yearBorn': 1964,\n   'fiscalYear': 2022,\n   'totalPay': {'raw': 285000, 'fmt': '285k', 'longFmt': '285,000'},\n   'exercisedValue': {'raw': 0, 'fmt': None, 'longFmt': '0'},\n   'unexercisedValue': {'raw': 0, 'fmt': None, 'longFmt': '0'}},\n  {'maxAge': 1,\n   'name': 'Dr. Christine  Regitz',\n   'age': 56,\n   'title': 'VP, Global Head of SAP Women in Tech & Member of Supervisory Board',\n   'yearBorn': 1966,\n   'fiscalYear': 2022,\n   'totalPay': {'raw': 278500, 'fmt': '278.5k', 'longFmt': '278,500'},\n   'exercisedValue': {'raw': 0, 'fmt': None, 'longFmt': '0'},\n   'unexercisedValue': {'raw': 0, 'fmt': None, 'longFmt': '0'}}],\n 'auditRisk': 2,\n 'boardRisk': 3,\n 'compensationRisk': 1,\n 'shareHolderRightsRisk': 1,\n 'overallRisk': 2,\n 'governanceEpochDate': 1698796800,\n 'compensationAsOfEpochDate': 1672444800,\n 'maxAge': 86400,\n 'priceHint': 2,\n 'previousClose': 136.44,\n 'open': 136.64,\n 'dayLow': 136.56,\n 'dayHigh': 137.76,\n 'regularMarketPreviousClose': 136.44,\n 'regularMarketOpen': 136.64,\n 'regularMarketDayLow': 136.56,\n 'regularMarketDayHigh': 137.76,\n 'dividendRate': 2.05,\n 'dividendYield': 0.015,\n 'exDividendDate': 1683849600,\n 'payoutRatio': 1.1201999,\n 'fiveYearAvgDividendYield': 1.58,\n 'beta': 0.956,\n 'trailingPE': 74.983604,\n 'forwardPE': 22.312195,\n 'volume': 1853622,\n 'regularMarketVolume': 1853622,\n 'averageVolume': 1741122,\n 'averageVolume10days': 1542728,\n 'averageDailyVolume10Day': 1542728,\n 'bid': 137.28,\n 'ask': 137.3,\n 'bidSize': 76700,\n 'askSize': 56500,\n 'marketCap': 160506232832,\n 'fiftyTwoWeekLow': 96.12,\n 'fiftyTwoWeekHigh': 137.76,\n 'priceToSalesTrailing12Months': 4.991952,\n 'fiftyDayAverage': 126.5812,\n 'twoHundredDayAverage': 121.3429,\n 'trailingAnnualDividendRate': 2.05,\n 'trailingAnnualDividendYield': 0.015024919,\n 'currency': 'EUR',\n 'fromCurrency': None,\n 'toCurrency': None,\n 'lastMarket': None,\n 'coinMarketCapLink': None,\n 'algorithm': None,\n 'tradeable': False,\n 'enterpriseValue': 158082924544,\n 'profitMargins': 0.16691999,\n 'floatShares': 1028085280,\n 'sharesOutstanding': 1169699968,\n 'heldPercentInsiders': 0.117,\n 'heldPercentInstitutions': 0.37507,\n 'impliedSharesOutstanding': 1177299968,\n 'category': None,\n 'bookValue': 36.78,\n 'priceToBook': 3.730832,\n 'fundFamily': None,\n 'legalType': None,\n 'lastFiscalYearEnd': 1672444800,\n 'nextFiscalYearEnd': 1703980800,\n 'mostRecentQuarter': 1696032000,\n 'earningsQuarterlyGrowth': 0.91,\n 'netIncomeToCommon': 2008999936,\n 'trailingEps': 1.83,\n 'forwardEps': 6.15,\n 'pegRatio': 1.24,\n 'lastSplitFactor': '3:1',\n 'lastSplitDate': 961977600,\n 'enterpriseToRevenue': 4.917,\n 'enterpriseToEbitda': 25.717,\n '52WeekChange': 0.2974515,\n 'SandP52WeekChange': 0.13691139,\n 'lastDividendValue': 2.05,\n 'lastDividendDate': 1683849600,\n 'exchange': 'GER',\n 'quoteType': 'EQUITY',\n 'symbol': 'SAP.DE',\n 'underlyingSymbol': 'SAP.DE',\n 'shortName': 'SAP SE O.N.',\n 'longName': 'SAP SE',\n 'firstTradeDateEpochUtc': 892105200,\n 'timeZoneFullName': 'Europe/Berlin',\n 'timeZoneShortName': 'CET',\n 'uuid': 'f712dd36-6b9e-3963-bd54-2057498c36d0',\n 'messageBoardId': 'finmb_126475',\n 'gmtOffSetMilliseconds': 3600000,\n 'currentPrice': 137.22,\n 'targetHighPrice': 162.0,\n 'targetLowPrice': 115.0,\n 'targetMeanPrice': 140.0,\n 'targetMedianPrice': 145.0,\n 'recommendationMean': 2.1,\n 'recommendationKey': 'buy',\n 'numberOfAnalystOpinions': 27,\n 'totalCash': 12428000256,\n 'totalCashPerShare': 10.64,\n 'ebitda': 6146999808,\n 'totalDebt': 10867999744,\n 'quickRatio': 1.377,\n 'currentRatio': 1.555,\n 'totalRevenue': 32152999936,\n 'debtToEquity': 25.134,\n 'revenuePerShare': 27.552,\n 'returnOnAssets': 0.043730002,\n 'returnOnEquity': 0.03674,\n 'grossProfits': 22166000000,\n 'freeCashflow': 2274625024,\n 'operatingCashflow': 6408999936,\n 'earningsGrowth': 0.895,\n 'revenueGrowth': 0.036,\n 'grossMargins': 0.71296996,\n 'ebitdaMargins': 0.19118,\n 'operatingMargins': 0.22830999,\n 'financialCurrency': 'EUR'}"
     },
     "execution_count": 52,
     "metadata": {},
     "output_type": "execute_result"
    }
   ],
   "source": [
    "info"
   ],
   "metadata": {
    "collapsed": false,
    "ExecuteTime": {
     "end_time": "2023-11-17T18:01:20.986075300Z",
     "start_time": "2023-11-17T18:01:20.971065500Z"
    }
   },
   "id": "2ab9b82c5807bb37"
  },
  {
   "cell_type": "code",
   "execution_count": 53,
   "outputs": [
    {
     "name": "stdout",
     "output_type": "stream",
     "text": [
      "{'symbol': 'SAP.DE', 'shortName': 'SAP SE O.N.', 'exchange': 'GER', 'industry': 'Software - Application', 'sector': 'Technology', 'marketCap': 160506232832, 'bookValue': 36.78, 'beta': 0.956}\n"
     ]
    }
   ],
   "source": [
    "info_list = ['symbol', 'shortName', 'exchange', 'industry', 'sector', 'marketCap', 'bookValue', 'beta']\n",
    "\n",
    "res = {key: info[key] for key in info_list if key in info}\n",
    "\n",
    "print(res)"
   ],
   "metadata": {
    "collapsed": false,
    "ExecuteTime": {
     "end_time": "2023-11-17T19:32:42.668951Z",
     "start_time": "2023-11-17T19:32:42.624943400Z"
    }
   },
   "id": "27eb03a10d709157"
  },
  {
   "cell_type": "code",
   "execution_count": 59,
   "outputs": [
    {
     "data": {
      "text/plain": "   symbol    shortName exchange                industry      sector  \\\n0  SAP.DE  SAP SE O.N.      GER  Software - Application  Technology   \n\n      marketCap  bookValue   beta  \n0  160506232832      36.78  0.956  ",
      "text/html": "<div>\n<style scoped>\n    .dataframe tbody tr th:only-of-type {\n        vertical-align: middle;\n    }\n\n    .dataframe tbody tr th {\n        vertical-align: top;\n    }\n\n    .dataframe thead th {\n        text-align: right;\n    }\n</style>\n<table border=\"1\" class=\"dataframe\">\n  <thead>\n    <tr style=\"text-align: right;\">\n      <th></th>\n      <th>symbol</th>\n      <th>shortName</th>\n      <th>exchange</th>\n      <th>industry</th>\n      <th>sector</th>\n      <th>marketCap</th>\n      <th>bookValue</th>\n      <th>beta</th>\n    </tr>\n  </thead>\n  <tbody>\n    <tr>\n      <th>0</th>\n      <td>SAP.DE</td>\n      <td>SAP SE O.N.</td>\n      <td>GER</td>\n      <td>Software - Application</td>\n      <td>Technology</td>\n      <td>160506232832</td>\n      <td>36.78</td>\n      <td>0.956</td>\n    </tr>\n  </tbody>\n</table>\n</div>"
     },
     "execution_count": 59,
     "metadata": {},
     "output_type": "execute_result"
    }
   ],
   "source": [
    "list_res = [res]\n",
    "pd.DataFrame(list_res)"
   ],
   "metadata": {
    "collapsed": false,
    "ExecuteTime": {
     "end_time": "2023-11-17T21:24:47.971526900Z",
     "start_time": "2023-11-17T21:24:47.955528800Z"
    }
   },
   "id": "338226d6e16fc3bc"
  },
  {
   "cell_type": "code",
   "execution_count": 61,
   "outputs": [
    {
     "name": "stdout",
     "output_type": "stream",
     "text": [
      "[*********************100%%**********************]  2 of 2 completed\n"
     ]
    }
   ],
   "source": [
    "two_stocks = yf.download(['SAP.DE', 'DBAN.DE'], start='2023-11-01')"
   ],
   "metadata": {
    "collapsed": false,
    "ExecuteTime": {
     "end_time": "2023-11-17T21:36:27.970881400Z",
     "start_time": "2023-11-17T21:36:27.659763100Z"
    }
   },
   "id": "a53e9d99e4a6db49"
  },
  {
   "cell_type": "code",
   "execution_count": 92,
   "outputs": [
    {
     "data": {
      "text/plain": "['DBAN.DE', 'SAP.DE']"
     },
     "execution_count": 92,
     "metadata": {},
     "output_type": "execute_result"
    }
   ],
   "source": [
    "two_stocks.columns.levels[1].to_list()"
   ],
   "metadata": {
    "collapsed": false,
    "ExecuteTime": {
     "end_time": "2023-11-17T22:01:47.313683Z",
     "start_time": "2023-11-17T22:01:47.282501900Z"
    }
   },
   "id": "1d818b0052770730"
  },
  {
   "cell_type": "code",
   "execution_count": 108,
   "outputs": [
    {
     "data": {
      "text/plain": "         Date   Symbol   Adj Close       Close        High         Low  \\\n0  2023-11-01  DBAN.DE   28.100000   28.100000   28.350000   27.600000   \n1  2023-11-01   SAP.DE  127.820000  127.820000  128.320007  126.099998   \n2  2023-11-02  DBAN.DE   28.600000   28.600000   29.100000   28.200001   \n3  2023-11-02   SAP.DE  130.119995  130.119995  130.839996  128.279999   \n4  2023-11-03  DBAN.DE   28.750000   28.750000   29.200001   28.500000   \n5  2023-11-03   SAP.DE  129.279999  129.279999  129.899994  128.179993   \n6  2023-11-06  DBAN.DE   28.100000   28.100000   28.900000   27.950001   \n7  2023-11-06   SAP.DE  128.720001  128.720001  129.300003  128.419998   \n8  2023-11-07  DBAN.DE   27.799999   27.799999   28.100000   27.450001   \n9  2023-11-07   SAP.DE  131.759995  131.759995  132.380005  128.779999   \n10 2023-11-08  DBAN.DE   28.299999   28.299999   28.600000   27.299999   \n11 2023-11-08   SAP.DE  133.179993  133.179993  133.179993  130.860001   \n12 2023-11-09  DBAN.DE   28.500000   28.500000   28.600000   28.250000   \n13 2023-11-09   SAP.DE  134.720001  134.720001  134.720001  132.240005   \n14 2023-11-10  DBAN.DE   28.799999   28.799999   29.049999   28.700001   \n15 2023-11-10   SAP.DE  134.860001  134.860001  135.119995  133.600006   \n16 2023-11-13  DBAN.DE   29.000000   29.000000   29.000000   28.350000   \n17 2023-11-13   SAP.DE  135.419998  135.419998  135.419998  134.360001   \n18 2023-11-14  DBAN.DE   29.549999   29.549999   29.799999   28.650000   \n19 2023-11-14   SAP.DE  136.259995  136.259995  137.320007  134.500000   \n20 2023-11-15  DBAN.DE   29.350000   29.350000   29.700001   28.700001   \n21 2023-11-15   SAP.DE  137.259995  137.259995  137.259995  135.220001   \n22 2023-11-16  DBAN.DE   29.100000   29.100000   29.400000   28.799999   \n23 2023-11-16   SAP.DE  136.440002  136.440002  137.500000  136.440002   \n24 2023-11-17  DBAN.DE   28.900000   28.900000   29.650000   28.750000   \n25 2023-11-17   SAP.DE  137.220001  137.220001  137.759995  136.559998   \n\n          Open   Volume  \n0    28.150000    11649  \n1   127.099998  1122663  \n2    28.200001     8706  \n3   128.479996  1857108  \n4    28.700001     9358  \n5   129.479996  1791555  \n6    28.900000     7966  \n7   128.979996  1106875  \n8    28.100000     9990  \n9   129.000000  1574112  \n10   27.650000     9635  \n11  131.259995  1951854  \n12   28.299999    11438  \n13  132.520004  1364065  \n14   28.700001    15418  \n15  133.899994  1372330  \n16   29.000000    14071  \n17  134.839996  1305444  \n18   29.049999    11579  \n19  135.119995  2062327  \n20   29.450001    27229  \n21  135.619995  1470265  \n22   29.400000    20012  \n23  136.679993  1428457  \n24   29.250000    15094  \n25  136.639999  1853622  ",
      "text/html": "<div>\n<style scoped>\n    .dataframe tbody tr th:only-of-type {\n        vertical-align: middle;\n    }\n\n    .dataframe tbody tr th {\n        vertical-align: top;\n    }\n\n    .dataframe thead th {\n        text-align: right;\n    }\n</style>\n<table border=\"1\" class=\"dataframe\">\n  <thead>\n    <tr style=\"text-align: right;\">\n      <th></th>\n      <th>Date</th>\n      <th>Symbol</th>\n      <th>Adj Close</th>\n      <th>Close</th>\n      <th>High</th>\n      <th>Low</th>\n      <th>Open</th>\n      <th>Volume</th>\n    </tr>\n  </thead>\n  <tbody>\n    <tr>\n      <th>0</th>\n      <td>2023-11-01</td>\n      <td>DBAN.DE</td>\n      <td>28.100000</td>\n      <td>28.100000</td>\n      <td>28.350000</td>\n      <td>27.600000</td>\n      <td>28.150000</td>\n      <td>11649</td>\n    </tr>\n    <tr>\n      <th>1</th>\n      <td>2023-11-01</td>\n      <td>SAP.DE</td>\n      <td>127.820000</td>\n      <td>127.820000</td>\n      <td>128.320007</td>\n      <td>126.099998</td>\n      <td>127.099998</td>\n      <td>1122663</td>\n    </tr>\n    <tr>\n      <th>2</th>\n      <td>2023-11-02</td>\n      <td>DBAN.DE</td>\n      <td>28.600000</td>\n      <td>28.600000</td>\n      <td>29.100000</td>\n      <td>28.200001</td>\n      <td>28.200001</td>\n      <td>8706</td>\n    </tr>\n    <tr>\n      <th>3</th>\n      <td>2023-11-02</td>\n      <td>SAP.DE</td>\n      <td>130.119995</td>\n      <td>130.119995</td>\n      <td>130.839996</td>\n      <td>128.279999</td>\n      <td>128.479996</td>\n      <td>1857108</td>\n    </tr>\n    <tr>\n      <th>4</th>\n      <td>2023-11-03</td>\n      <td>DBAN.DE</td>\n      <td>28.750000</td>\n      <td>28.750000</td>\n      <td>29.200001</td>\n      <td>28.500000</td>\n      <td>28.700001</td>\n      <td>9358</td>\n    </tr>\n    <tr>\n      <th>5</th>\n      <td>2023-11-03</td>\n      <td>SAP.DE</td>\n      <td>129.279999</td>\n      <td>129.279999</td>\n      <td>129.899994</td>\n      <td>128.179993</td>\n      <td>129.479996</td>\n      <td>1791555</td>\n    </tr>\n    <tr>\n      <th>6</th>\n      <td>2023-11-06</td>\n      <td>DBAN.DE</td>\n      <td>28.100000</td>\n      <td>28.100000</td>\n      <td>28.900000</td>\n      <td>27.950001</td>\n      <td>28.900000</td>\n      <td>7966</td>\n    </tr>\n    <tr>\n      <th>7</th>\n      <td>2023-11-06</td>\n      <td>SAP.DE</td>\n      <td>128.720001</td>\n      <td>128.720001</td>\n      <td>129.300003</td>\n      <td>128.419998</td>\n      <td>128.979996</td>\n      <td>1106875</td>\n    </tr>\n    <tr>\n      <th>8</th>\n      <td>2023-11-07</td>\n      <td>DBAN.DE</td>\n      <td>27.799999</td>\n      <td>27.799999</td>\n      <td>28.100000</td>\n      <td>27.450001</td>\n      <td>28.100000</td>\n      <td>9990</td>\n    </tr>\n    <tr>\n      <th>9</th>\n      <td>2023-11-07</td>\n      <td>SAP.DE</td>\n      <td>131.759995</td>\n      <td>131.759995</td>\n      <td>132.380005</td>\n      <td>128.779999</td>\n      <td>129.000000</td>\n      <td>1574112</td>\n    </tr>\n    <tr>\n      <th>10</th>\n      <td>2023-11-08</td>\n      <td>DBAN.DE</td>\n      <td>28.299999</td>\n      <td>28.299999</td>\n      <td>28.600000</td>\n      <td>27.299999</td>\n      <td>27.650000</td>\n      <td>9635</td>\n    </tr>\n    <tr>\n      <th>11</th>\n      <td>2023-11-08</td>\n      <td>SAP.DE</td>\n      <td>133.179993</td>\n      <td>133.179993</td>\n      <td>133.179993</td>\n      <td>130.860001</td>\n      <td>131.259995</td>\n      <td>1951854</td>\n    </tr>\n    <tr>\n      <th>12</th>\n      <td>2023-11-09</td>\n      <td>DBAN.DE</td>\n      <td>28.500000</td>\n      <td>28.500000</td>\n      <td>28.600000</td>\n      <td>28.250000</td>\n      <td>28.299999</td>\n      <td>11438</td>\n    </tr>\n    <tr>\n      <th>13</th>\n      <td>2023-11-09</td>\n      <td>SAP.DE</td>\n      <td>134.720001</td>\n      <td>134.720001</td>\n      <td>134.720001</td>\n      <td>132.240005</td>\n      <td>132.520004</td>\n      <td>1364065</td>\n    </tr>\n    <tr>\n      <th>14</th>\n      <td>2023-11-10</td>\n      <td>DBAN.DE</td>\n      <td>28.799999</td>\n      <td>28.799999</td>\n      <td>29.049999</td>\n      <td>28.700001</td>\n      <td>28.700001</td>\n      <td>15418</td>\n    </tr>\n    <tr>\n      <th>15</th>\n      <td>2023-11-10</td>\n      <td>SAP.DE</td>\n      <td>134.860001</td>\n      <td>134.860001</td>\n      <td>135.119995</td>\n      <td>133.600006</td>\n      <td>133.899994</td>\n      <td>1372330</td>\n    </tr>\n    <tr>\n      <th>16</th>\n      <td>2023-11-13</td>\n      <td>DBAN.DE</td>\n      <td>29.000000</td>\n      <td>29.000000</td>\n      <td>29.000000</td>\n      <td>28.350000</td>\n      <td>29.000000</td>\n      <td>14071</td>\n    </tr>\n    <tr>\n      <th>17</th>\n      <td>2023-11-13</td>\n      <td>SAP.DE</td>\n      <td>135.419998</td>\n      <td>135.419998</td>\n      <td>135.419998</td>\n      <td>134.360001</td>\n      <td>134.839996</td>\n      <td>1305444</td>\n    </tr>\n    <tr>\n      <th>18</th>\n      <td>2023-11-14</td>\n      <td>DBAN.DE</td>\n      <td>29.549999</td>\n      <td>29.549999</td>\n      <td>29.799999</td>\n      <td>28.650000</td>\n      <td>29.049999</td>\n      <td>11579</td>\n    </tr>\n    <tr>\n      <th>19</th>\n      <td>2023-11-14</td>\n      <td>SAP.DE</td>\n      <td>136.259995</td>\n      <td>136.259995</td>\n      <td>137.320007</td>\n      <td>134.500000</td>\n      <td>135.119995</td>\n      <td>2062327</td>\n    </tr>\n    <tr>\n      <th>20</th>\n      <td>2023-11-15</td>\n      <td>DBAN.DE</td>\n      <td>29.350000</td>\n      <td>29.350000</td>\n      <td>29.700001</td>\n      <td>28.700001</td>\n      <td>29.450001</td>\n      <td>27229</td>\n    </tr>\n    <tr>\n      <th>21</th>\n      <td>2023-11-15</td>\n      <td>SAP.DE</td>\n      <td>137.259995</td>\n      <td>137.259995</td>\n      <td>137.259995</td>\n      <td>135.220001</td>\n      <td>135.619995</td>\n      <td>1470265</td>\n    </tr>\n    <tr>\n      <th>22</th>\n      <td>2023-11-16</td>\n      <td>DBAN.DE</td>\n      <td>29.100000</td>\n      <td>29.100000</td>\n      <td>29.400000</td>\n      <td>28.799999</td>\n      <td>29.400000</td>\n      <td>20012</td>\n    </tr>\n    <tr>\n      <th>23</th>\n      <td>2023-11-16</td>\n      <td>SAP.DE</td>\n      <td>136.440002</td>\n      <td>136.440002</td>\n      <td>137.500000</td>\n      <td>136.440002</td>\n      <td>136.679993</td>\n      <td>1428457</td>\n    </tr>\n    <tr>\n      <th>24</th>\n      <td>2023-11-17</td>\n      <td>DBAN.DE</td>\n      <td>28.900000</td>\n      <td>28.900000</td>\n      <td>29.650000</td>\n      <td>28.750000</td>\n      <td>29.250000</td>\n      <td>15094</td>\n    </tr>\n    <tr>\n      <th>25</th>\n      <td>2023-11-17</td>\n      <td>SAP.DE</td>\n      <td>137.220001</td>\n      <td>137.220001</td>\n      <td>137.759995</td>\n      <td>136.559998</td>\n      <td>136.639999</td>\n      <td>1853622</td>\n    </tr>\n  </tbody>\n</table>\n</div>"
     },
     "execution_count": 108,
     "metadata": {},
     "output_type": "execute_result"
    }
   ],
   "source": [
    "two_stocks.stack().reset_index(names=['Date', 'Symbol'])"
   ],
   "metadata": {
    "collapsed": false,
    "ExecuteTime": {
     "end_time": "2023-11-17T22:14:30.790794900Z",
     "start_time": "2023-11-17T22:14:30.761648200Z"
    }
   },
   "id": "5c2a61e0df073ad0"
  },
  {
   "cell_type": "code",
   "execution_count": 104,
   "outputs": [
    {
     "data": {
      "text/plain": "            Adj Close                  Close                   High  \\\n              DBAN.DE      SAP.DE    DBAN.DE      SAP.DE    DBAN.DE   \nDate                                                                  \n2023-11-01  28.100000  127.820000  28.100000  127.820000  28.350000   \n2023-11-02  28.600000  130.119995  28.600000  130.119995  29.100000   \n2023-11-03  28.750000  129.279999  28.750000  129.279999  29.200001   \n2023-11-06  28.100000  128.720001  28.100000  128.720001  28.900000   \n2023-11-07  27.799999  131.759995  27.799999  131.759995  28.100000   \n2023-11-08  28.299999  133.179993  28.299999  133.179993  28.600000   \n2023-11-09  28.500000  134.720001  28.500000  134.720001  28.600000   \n2023-11-10  28.799999  134.860001  28.799999  134.860001  29.049999   \n2023-11-13  29.000000  135.419998  29.000000  135.419998  29.000000   \n2023-11-14  29.549999  136.259995  29.549999  136.259995  29.799999   \n2023-11-15  29.350000  137.259995  29.350000  137.259995  29.700001   \n2023-11-16  29.100000  136.440002  29.100000  136.440002  29.400000   \n2023-11-17  28.900000  137.220001  28.900000  137.220001  29.650000   \n\n                              Low                   Open              Volume  \\\n                SAP.DE    DBAN.DE      SAP.DE    DBAN.DE      SAP.DE DBAN.DE   \nDate                                                                           \n2023-11-01  128.320007  27.600000  126.099998  28.150000  127.099998   11649   \n2023-11-02  130.839996  28.200001  128.279999  28.200001  128.479996    8706   \n2023-11-03  129.899994  28.500000  128.179993  28.700001  129.479996    9358   \n2023-11-06  129.300003  27.950001  128.419998  28.900000  128.979996    7966   \n2023-11-07  132.380005  27.450001  128.779999  28.100000  129.000000    9990   \n2023-11-08  133.179993  27.299999  130.860001  27.650000  131.259995    9635   \n2023-11-09  134.720001  28.250000  132.240005  28.299999  132.520004   11438   \n2023-11-10  135.119995  28.700001  133.600006  28.700001  133.899994   15418   \n2023-11-13  135.419998  28.350000  134.360001  29.000000  134.839996   14071   \n2023-11-14  137.320007  28.650000  134.500000  29.049999  135.119995   11579   \n2023-11-15  137.259995  28.700001  135.220001  29.450001  135.619995   27229   \n2023-11-16  137.500000  28.799999  136.440002  29.400000  136.679993   20012   \n2023-11-17  137.759995  28.750000  136.559998  29.250000  136.639999   15094   \n\n                     \n             SAP.DE  \nDate                 \n2023-11-01  1122663  \n2023-11-02  1857108  \n2023-11-03  1791555  \n2023-11-06  1106875  \n2023-11-07  1574112  \n2023-11-08  1951854  \n2023-11-09  1364065  \n2023-11-10  1372330  \n2023-11-13  1305444  \n2023-11-14  2062327  \n2023-11-15  1470265  \n2023-11-16  1428457  \n2023-11-17  1853622  ",
      "text/html": "<div>\n<style scoped>\n    .dataframe tbody tr th:only-of-type {\n        vertical-align: middle;\n    }\n\n    .dataframe tbody tr th {\n        vertical-align: top;\n    }\n\n    .dataframe thead tr th {\n        text-align: left;\n    }\n\n    .dataframe thead tr:last-of-type th {\n        text-align: right;\n    }\n</style>\n<table border=\"1\" class=\"dataframe\">\n  <thead>\n    <tr>\n      <th></th>\n      <th colspan=\"2\" halign=\"left\">Adj Close</th>\n      <th colspan=\"2\" halign=\"left\">Close</th>\n      <th colspan=\"2\" halign=\"left\">High</th>\n      <th colspan=\"2\" halign=\"left\">Low</th>\n      <th colspan=\"2\" halign=\"left\">Open</th>\n      <th colspan=\"2\" halign=\"left\">Volume</th>\n    </tr>\n    <tr>\n      <th></th>\n      <th>DBAN.DE</th>\n      <th>SAP.DE</th>\n      <th>DBAN.DE</th>\n      <th>SAP.DE</th>\n      <th>DBAN.DE</th>\n      <th>SAP.DE</th>\n      <th>DBAN.DE</th>\n      <th>SAP.DE</th>\n      <th>DBAN.DE</th>\n      <th>SAP.DE</th>\n      <th>DBAN.DE</th>\n      <th>SAP.DE</th>\n    </tr>\n    <tr>\n      <th>Date</th>\n      <th></th>\n      <th></th>\n      <th></th>\n      <th></th>\n      <th></th>\n      <th></th>\n      <th></th>\n      <th></th>\n      <th></th>\n      <th></th>\n      <th></th>\n      <th></th>\n    </tr>\n  </thead>\n  <tbody>\n    <tr>\n      <th>2023-11-01</th>\n      <td>28.100000</td>\n      <td>127.820000</td>\n      <td>28.100000</td>\n      <td>127.820000</td>\n      <td>28.350000</td>\n      <td>128.320007</td>\n      <td>27.600000</td>\n      <td>126.099998</td>\n      <td>28.150000</td>\n      <td>127.099998</td>\n      <td>11649</td>\n      <td>1122663</td>\n    </tr>\n    <tr>\n      <th>2023-11-02</th>\n      <td>28.600000</td>\n      <td>130.119995</td>\n      <td>28.600000</td>\n      <td>130.119995</td>\n      <td>29.100000</td>\n      <td>130.839996</td>\n      <td>28.200001</td>\n      <td>128.279999</td>\n      <td>28.200001</td>\n      <td>128.479996</td>\n      <td>8706</td>\n      <td>1857108</td>\n    </tr>\n    <tr>\n      <th>2023-11-03</th>\n      <td>28.750000</td>\n      <td>129.279999</td>\n      <td>28.750000</td>\n      <td>129.279999</td>\n      <td>29.200001</td>\n      <td>129.899994</td>\n      <td>28.500000</td>\n      <td>128.179993</td>\n      <td>28.700001</td>\n      <td>129.479996</td>\n      <td>9358</td>\n      <td>1791555</td>\n    </tr>\n    <tr>\n      <th>2023-11-06</th>\n      <td>28.100000</td>\n      <td>128.720001</td>\n      <td>28.100000</td>\n      <td>128.720001</td>\n      <td>28.900000</td>\n      <td>129.300003</td>\n      <td>27.950001</td>\n      <td>128.419998</td>\n      <td>28.900000</td>\n      <td>128.979996</td>\n      <td>7966</td>\n      <td>1106875</td>\n    </tr>\n    <tr>\n      <th>2023-11-07</th>\n      <td>27.799999</td>\n      <td>131.759995</td>\n      <td>27.799999</td>\n      <td>131.759995</td>\n      <td>28.100000</td>\n      <td>132.380005</td>\n      <td>27.450001</td>\n      <td>128.779999</td>\n      <td>28.100000</td>\n      <td>129.000000</td>\n      <td>9990</td>\n      <td>1574112</td>\n    </tr>\n    <tr>\n      <th>2023-11-08</th>\n      <td>28.299999</td>\n      <td>133.179993</td>\n      <td>28.299999</td>\n      <td>133.179993</td>\n      <td>28.600000</td>\n      <td>133.179993</td>\n      <td>27.299999</td>\n      <td>130.860001</td>\n      <td>27.650000</td>\n      <td>131.259995</td>\n      <td>9635</td>\n      <td>1951854</td>\n    </tr>\n    <tr>\n      <th>2023-11-09</th>\n      <td>28.500000</td>\n      <td>134.720001</td>\n      <td>28.500000</td>\n      <td>134.720001</td>\n      <td>28.600000</td>\n      <td>134.720001</td>\n      <td>28.250000</td>\n      <td>132.240005</td>\n      <td>28.299999</td>\n      <td>132.520004</td>\n      <td>11438</td>\n      <td>1364065</td>\n    </tr>\n    <tr>\n      <th>2023-11-10</th>\n      <td>28.799999</td>\n      <td>134.860001</td>\n      <td>28.799999</td>\n      <td>134.860001</td>\n      <td>29.049999</td>\n      <td>135.119995</td>\n      <td>28.700001</td>\n      <td>133.600006</td>\n      <td>28.700001</td>\n      <td>133.899994</td>\n      <td>15418</td>\n      <td>1372330</td>\n    </tr>\n    <tr>\n      <th>2023-11-13</th>\n      <td>29.000000</td>\n      <td>135.419998</td>\n      <td>29.000000</td>\n      <td>135.419998</td>\n      <td>29.000000</td>\n      <td>135.419998</td>\n      <td>28.350000</td>\n      <td>134.360001</td>\n      <td>29.000000</td>\n      <td>134.839996</td>\n      <td>14071</td>\n      <td>1305444</td>\n    </tr>\n    <tr>\n      <th>2023-11-14</th>\n      <td>29.549999</td>\n      <td>136.259995</td>\n      <td>29.549999</td>\n      <td>136.259995</td>\n      <td>29.799999</td>\n      <td>137.320007</td>\n      <td>28.650000</td>\n      <td>134.500000</td>\n      <td>29.049999</td>\n      <td>135.119995</td>\n      <td>11579</td>\n      <td>2062327</td>\n    </tr>\n    <tr>\n      <th>2023-11-15</th>\n      <td>29.350000</td>\n      <td>137.259995</td>\n      <td>29.350000</td>\n      <td>137.259995</td>\n      <td>29.700001</td>\n      <td>137.259995</td>\n      <td>28.700001</td>\n      <td>135.220001</td>\n      <td>29.450001</td>\n      <td>135.619995</td>\n      <td>27229</td>\n      <td>1470265</td>\n    </tr>\n    <tr>\n      <th>2023-11-16</th>\n      <td>29.100000</td>\n      <td>136.440002</td>\n      <td>29.100000</td>\n      <td>136.440002</td>\n      <td>29.400000</td>\n      <td>137.500000</td>\n      <td>28.799999</td>\n      <td>136.440002</td>\n      <td>29.400000</td>\n      <td>136.679993</td>\n      <td>20012</td>\n      <td>1428457</td>\n    </tr>\n    <tr>\n      <th>2023-11-17</th>\n      <td>28.900000</td>\n      <td>137.220001</td>\n      <td>28.900000</td>\n      <td>137.220001</td>\n      <td>29.650000</td>\n      <td>137.759995</td>\n      <td>28.750000</td>\n      <td>136.559998</td>\n      <td>29.250000</td>\n      <td>136.639999</td>\n      <td>15094</td>\n      <td>1853622</td>\n    </tr>\n  </tbody>\n</table>\n</div>"
     },
     "execution_count": 104,
     "metadata": {},
     "output_type": "execute_result"
    }
   ],
   "source": [
    "two_stocks"
   ],
   "metadata": {
    "collapsed": false,
    "ExecuteTime": {
     "end_time": "2023-11-17T22:11:45.047061400Z",
     "start_time": "2023-11-17T22:11:45.028062800Z"
    }
   },
   "id": "66ae66ec93c90f73"
  },
  {
   "cell_type": "code",
   "execution_count": 93,
   "outputs": [
    {
     "ename": "TypeError",
     "evalue": "unhashable type: 'list'",
     "output_type": "error",
     "traceback": [
      "\u001B[1;31m---------------------------------------------------------------------------\u001B[0m",
      "\u001B[1;31mTypeError\u001B[0m                                 Traceback (most recent call last)",
      "Cell \u001B[1;32mIn[93], line 3\u001B[0m\n\u001B[0;32m      1\u001B[0m two_stocks_wo_index \u001B[38;5;241m=\u001B[39m two_stocks\u001B[38;5;241m.\u001B[39mreset_index()\n\u001B[1;32m----> 3\u001B[0m \u001B[43mpd\u001B[49m\u001B[38;5;241;43m.\u001B[39;49m\u001B[43mmelt\u001B[49m\u001B[43m(\u001B[49m\n\u001B[0;32m      4\u001B[0m \u001B[43m    \u001B[49m\u001B[43mtwo_stocks_wo_index\u001B[49m\n\u001B[0;32m      5\u001B[0m \u001B[43m    \u001B[49m\u001B[43m,\u001B[49m\u001B[43m \u001B[49m\u001B[43mid_vars\u001B[49m\u001B[38;5;241;43m=\u001B[39;49m\u001B[43m[\u001B[49m\u001B[43mtwo_stocks\u001B[49m\u001B[38;5;241;43m.\u001B[39;49m\u001B[43mcolumns\u001B[49m\u001B[38;5;241;43m.\u001B[39;49m\u001B[43mlevels\u001B[49m\u001B[43m[\u001B[49m\u001B[38;5;241;43m1\u001B[39;49m\u001B[43m]\u001B[49m\u001B[38;5;241;43m.\u001B[39;49m\u001B[43mto_list\u001B[49m\u001B[43m(\u001B[49m\u001B[43m)\u001B[49m\u001B[43m]\u001B[49m\n\u001B[0;32m      6\u001B[0m \u001B[43m    \u001B[49m\u001B[43m,\u001B[49m\u001B[43m \u001B[49m\u001B[43mvalue_vars\u001B[49m\u001B[38;5;241;43m=\u001B[39;49m\u001B[43mtwo_stocks\u001B[49m\u001B[38;5;241;43m.\u001B[39;49m\u001B[43mcolumns\u001B[49m\u001B[38;5;241;43m.\u001B[39;49m\u001B[43mlevels\u001B[49m\u001B[43m[\u001B[49m\u001B[38;5;241;43m0\u001B[39;49m\u001B[43m]\u001B[49m\u001B[38;5;241;43m.\u001B[39;49m\u001B[43mto_list\u001B[49m\u001B[43m(\u001B[49m\u001B[43m)\u001B[49m\n\u001B[0;32m      7\u001B[0m \u001B[43m    \u001B[49m\u001B[43m,\u001B[49m\u001B[43m \u001B[49m\u001B[43mignore_index\u001B[49m\u001B[38;5;241;43m=\u001B[39;49m\u001B[38;5;28;43;01mFalse\u001B[39;49;00m\n\u001B[0;32m      8\u001B[0m \u001B[43m)\u001B[49m\n",
      "File \u001B[1;32m~\\PycharmProjects\\pca-project\\.venv\\lib\\site-packages\\pandas\\core\\reshape\\melt.py:97\u001B[0m, in \u001B[0;36mmelt\u001B[1;34m(frame, id_vars, value_vars, var_name, value_name, col_level, ignore_index)\u001B[0m\n\u001B[0;32m     93\u001B[0m         idx \u001B[38;5;241m=\u001B[39m frame\u001B[38;5;241m.\u001B[39mcolumns\u001B[38;5;241m.\u001B[39mget_level_values(col_level)\u001B[38;5;241m.\u001B[39mget_indexer(\n\u001B[0;32m     94\u001B[0m             id_vars \u001B[38;5;241m+\u001B[39m value_vars\n\u001B[0;32m     95\u001B[0m         )\n\u001B[0;32m     96\u001B[0m     \u001B[38;5;28;01melse\u001B[39;00m:\n\u001B[1;32m---> 97\u001B[0m         idx \u001B[38;5;241m=\u001B[39m algos\u001B[38;5;241m.\u001B[39munique(\u001B[43mframe\u001B[49m\u001B[38;5;241;43m.\u001B[39;49m\u001B[43mcolumns\u001B[49m\u001B[38;5;241;43m.\u001B[39;49m\u001B[43mget_indexer_for\u001B[49m\u001B[43m(\u001B[49m\u001B[43mid_vars\u001B[49m\u001B[43m \u001B[49m\u001B[38;5;241;43m+\u001B[39;49m\u001B[43m \u001B[49m\u001B[43mvalue_vars\u001B[49m\u001B[43m)\u001B[49m)\n\u001B[0;32m     98\u001B[0m     frame \u001B[38;5;241m=\u001B[39m frame\u001B[38;5;241m.\u001B[39miloc[:, idx]\n\u001B[0;32m     99\u001B[0m \u001B[38;5;28;01melse\u001B[39;00m:\n",
      "File \u001B[1;32m~\\PycharmProjects\\pca-project\\.venv\\lib\\site-packages\\pandas\\core\\indexes\\base.py:6096\u001B[0m, in \u001B[0;36mIndex.get_indexer_for\u001B[1;34m(self, target)\u001B[0m\n\u001B[0;32m   6078\u001B[0m \u001B[38;5;250m\u001B[39m\u001B[38;5;124;03m\"\"\"\u001B[39;00m\n\u001B[0;32m   6079\u001B[0m \u001B[38;5;124;03mGuaranteed return of an indexer even when non-unique.\u001B[39;00m\n\u001B[0;32m   6080\u001B[0m \n\u001B[1;32m   (...)\u001B[0m\n\u001B[0;32m   6093\u001B[0m \u001B[38;5;124;03marray([0, 2])\u001B[39;00m\n\u001B[0;32m   6094\u001B[0m \u001B[38;5;124;03m\"\"\"\u001B[39;00m\n\u001B[0;32m   6095\u001B[0m \u001B[38;5;28;01mif\u001B[39;00m \u001B[38;5;28mself\u001B[39m\u001B[38;5;241m.\u001B[39m_index_as_unique:\n\u001B[1;32m-> 6096\u001B[0m     \u001B[38;5;28;01mreturn\u001B[39;00m \u001B[38;5;28;43mself\u001B[39;49m\u001B[38;5;241;43m.\u001B[39;49m\u001B[43mget_indexer\u001B[49m\u001B[43m(\u001B[49m\u001B[43mtarget\u001B[49m\u001B[43m)\u001B[49m\n\u001B[0;32m   6097\u001B[0m indexer, _ \u001B[38;5;241m=\u001B[39m \u001B[38;5;28mself\u001B[39m\u001B[38;5;241m.\u001B[39mget_indexer_non_unique(target)\n\u001B[0;32m   6098\u001B[0m \u001B[38;5;28;01mreturn\u001B[39;00m indexer\n",
      "File \u001B[1;32m~\\PycharmProjects\\pca-project\\.venv\\lib\\site-packages\\pandas\\core\\indexes\\base.py:3923\u001B[0m, in \u001B[0;36mIndex.get_indexer\u001B[1;34m(self, target, method, limit, tolerance)\u001B[0m\n\u001B[0;32m   3921\u001B[0m pself, ptarget \u001B[38;5;241m=\u001B[39m \u001B[38;5;28mself\u001B[39m\u001B[38;5;241m.\u001B[39m_maybe_promote(target)\n\u001B[0;32m   3922\u001B[0m \u001B[38;5;28;01mif\u001B[39;00m pself \u001B[38;5;129;01mis\u001B[39;00m \u001B[38;5;129;01mnot\u001B[39;00m \u001B[38;5;28mself\u001B[39m \u001B[38;5;129;01mor\u001B[39;00m ptarget \u001B[38;5;129;01mis\u001B[39;00m \u001B[38;5;129;01mnot\u001B[39;00m target:\n\u001B[1;32m-> 3923\u001B[0m     \u001B[38;5;28;01mreturn\u001B[39;00m \u001B[43mpself\u001B[49m\u001B[38;5;241;43m.\u001B[39;49m\u001B[43mget_indexer\u001B[49m\u001B[43m(\u001B[49m\n\u001B[0;32m   3924\u001B[0m \u001B[43m        \u001B[49m\u001B[43mptarget\u001B[49m\u001B[43m,\u001B[49m\u001B[43m \u001B[49m\u001B[43mmethod\u001B[49m\u001B[38;5;241;43m=\u001B[39;49m\u001B[43mmethod\u001B[49m\u001B[43m,\u001B[49m\u001B[43m \u001B[49m\u001B[43mlimit\u001B[49m\u001B[38;5;241;43m=\u001B[39;49m\u001B[43mlimit\u001B[49m\u001B[43m,\u001B[49m\u001B[43m \u001B[49m\u001B[43mtolerance\u001B[49m\u001B[38;5;241;43m=\u001B[39;49m\u001B[43mtolerance\u001B[49m\n\u001B[0;32m   3925\u001B[0m \u001B[43m    \u001B[49m\u001B[43m)\u001B[49m\n\u001B[0;32m   3927\u001B[0m \u001B[38;5;28;01mif\u001B[39;00m \u001B[38;5;28mself\u001B[39m\u001B[38;5;241m.\u001B[39mdtype \u001B[38;5;241m==\u001B[39m target\u001B[38;5;241m.\u001B[39mdtype \u001B[38;5;129;01mand\u001B[39;00m \u001B[38;5;28mself\u001B[39m\u001B[38;5;241m.\u001B[39mequals(target):\n\u001B[0;32m   3928\u001B[0m     \u001B[38;5;66;03m# Only call equals if we have same dtype to avoid inference/casting\u001B[39;00m\n\u001B[0;32m   3929\u001B[0m     \u001B[38;5;28;01mreturn\u001B[39;00m np\u001B[38;5;241m.\u001B[39marange(\u001B[38;5;28mlen\u001B[39m(target), dtype\u001B[38;5;241m=\u001B[39mnp\u001B[38;5;241m.\u001B[39mintp)\n",
      "File \u001B[1;32m~\\PycharmProjects\\pca-project\\.venv\\lib\\site-packages\\pandas\\core\\indexes\\base.py:3942\u001B[0m, in \u001B[0;36mIndex.get_indexer\u001B[1;34m(self, target, method, limit, tolerance)\u001B[0m\n\u001B[0;32m   3937\u001B[0m     target \u001B[38;5;241m=\u001B[39m target\u001B[38;5;241m.\u001B[39mastype(dtype, copy\u001B[38;5;241m=\u001B[39m\u001B[38;5;28;01mFalse\u001B[39;00m)\n\u001B[0;32m   3938\u001B[0m     \u001B[38;5;28;01mreturn\u001B[39;00m this\u001B[38;5;241m.\u001B[39m_get_indexer(\n\u001B[0;32m   3939\u001B[0m         target, method\u001B[38;5;241m=\u001B[39mmethod, limit\u001B[38;5;241m=\u001B[39mlimit, tolerance\u001B[38;5;241m=\u001B[39mtolerance\n\u001B[0;32m   3940\u001B[0m     )\n\u001B[1;32m-> 3942\u001B[0m \u001B[38;5;28;01mreturn\u001B[39;00m \u001B[38;5;28;43mself\u001B[39;49m\u001B[38;5;241;43m.\u001B[39;49m\u001B[43m_get_indexer\u001B[49m\u001B[43m(\u001B[49m\u001B[43mtarget\u001B[49m\u001B[43m,\u001B[49m\u001B[43m \u001B[49m\u001B[43mmethod\u001B[49m\u001B[43m,\u001B[49m\u001B[43m \u001B[49m\u001B[43mlimit\u001B[49m\u001B[43m,\u001B[49m\u001B[43m \u001B[49m\u001B[43mtolerance\u001B[49m\u001B[43m)\u001B[49m\n",
      "File \u001B[1;32m~\\PycharmProjects\\pca-project\\.venv\\lib\\site-packages\\pandas\\core\\indexes\\base.py:3969\u001B[0m, in \u001B[0;36mIndex._get_indexer\u001B[1;34m(self, target, method, limit, tolerance)\u001B[0m\n\u001B[0;32m   3966\u001B[0m     \u001B[38;5;28;01melse\u001B[39;00m:\n\u001B[0;32m   3967\u001B[0m         tgt_values \u001B[38;5;241m=\u001B[39m target\u001B[38;5;241m.\u001B[39m_get_engine_target()\n\u001B[1;32m-> 3969\u001B[0m     indexer \u001B[38;5;241m=\u001B[39m \u001B[38;5;28;43mself\u001B[39;49m\u001B[38;5;241;43m.\u001B[39;49m\u001B[43m_engine\u001B[49m\u001B[38;5;241;43m.\u001B[39;49m\u001B[43mget_indexer\u001B[49m\u001B[43m(\u001B[49m\u001B[43mtgt_values\u001B[49m\u001B[43m)\u001B[49m\n\u001B[0;32m   3971\u001B[0m \u001B[38;5;28;01mreturn\u001B[39;00m ensure_platform_int(indexer)\n",
      "File \u001B[1;32mindex.pyx:336\u001B[0m, in \u001B[0;36mpandas._libs.index.IndexEngine.get_indexer\u001B[1;34m()\u001B[0m\n",
      "File \u001B[1;32mpandas\\_libs\\hashtable_class_helper.pxi:7131\u001B[0m, in \u001B[0;36mpandas._libs.hashtable.PyObjectHashTable.lookup\u001B[1;34m()\u001B[0m\n",
      "\u001B[1;31mTypeError\u001B[0m: unhashable type: 'list'"
     ]
    }
   ],
   "source": [
    "two_stocks_wo_index = two_stocks.reset_index()\n",
    "\n",
    "pd.melt(\n",
    "    two_stocks_wo_index\n",
    "    , id_vars=[two_stocks.columns.levels[1].to_list()]\n",
    "    , value_vars=two_stocks.columns.levels[0].to_list()\n",
    "    , ignore_index=False\n",
    ")"
   ],
   "metadata": {
    "collapsed": false,
    "ExecuteTime": {
     "end_time": "2023-11-17T22:02:13.685714500Z",
     "start_time": "2023-11-17T22:02:13.619713900Z"
    }
   },
   "id": "bfd6ce765974dd8d"
  },
  {
   "cell_type": "code",
   "execution_count": 114,
   "outputs": [
    {
     "data": {
      "text/plain": "datetime.date(2023, 11, 1)"
     },
     "execution_count": 114,
     "metadata": {},
     "output_type": "execute_result"
    }
   ],
   "source": [
    "two_stocks_wo_index['Date'][0].date()"
   ],
   "metadata": {
    "collapsed": false,
    "ExecuteTime": {
     "end_time": "2023-11-18T00:50:16.183829100Z",
     "start_time": "2023-11-18T00:50:16.170825200Z"
    }
   },
   "id": "ecd7b99f8c028949"
  },
  {
   "cell_type": "code",
   "execution_count": 112,
   "outputs": [
    {
     "data": {
      "text/plain": "    symbol                shortName exchange                industry  \\\n0   SAP.DE              SAP SE O.N.      GER  Software - Application   \n1  DBAN.DE  DT.BETEILIG.AG  NA O.N.      GER        Asset Management   \n\n               sector     marketCap  bookValue   beta  \n0          Technology  160506232832     36.780  0.956  \n1  Financial Services     543464512     36.111  1.161  ",
      "text/html": "<div>\n<style scoped>\n    .dataframe tbody tr th:only-of-type {\n        vertical-align: middle;\n    }\n\n    .dataframe tbody tr th {\n        vertical-align: top;\n    }\n\n    .dataframe thead th {\n        text-align: right;\n    }\n</style>\n<table border=\"1\" class=\"dataframe\">\n  <thead>\n    <tr style=\"text-align: right;\">\n      <th></th>\n      <th>symbol</th>\n      <th>shortName</th>\n      <th>exchange</th>\n      <th>industry</th>\n      <th>sector</th>\n      <th>marketCap</th>\n      <th>bookValue</th>\n      <th>beta</th>\n    </tr>\n  </thead>\n  <tbody>\n    <tr>\n      <th>0</th>\n      <td>SAP.DE</td>\n      <td>SAP SE O.N.</td>\n      <td>GER</td>\n      <td>Software - Application</td>\n      <td>Technology</td>\n      <td>160506232832</td>\n      <td>36.780</td>\n      <td>0.956</td>\n    </tr>\n    <tr>\n      <th>1</th>\n      <td>DBAN.DE</td>\n      <td>DT.BETEILIG.AG  NA O.N.</td>\n      <td>GER</td>\n      <td>Asset Management</td>\n      <td>Financial Services</td>\n      <td>543464512</td>\n      <td>36.111</td>\n      <td>1.161</td>\n    </tr>\n  </tbody>\n</table>\n</div>"
     },
     "execution_count": 112,
     "metadata": {},
     "output_type": "execute_result"
    }
   ],
   "source": [
    "import time\n",
    "\n",
    "col_list = ['symbol', 'shortName', 'exchange', 'industry', 'sector', 'marketCap', 'bookValue', 'beta']\n",
    "results = []\n",
    "tickers = ['SAP.DE', 'DBAN.DE']\n",
    "\n",
    "for i, ticker in enumerate(tickers):\n",
    "    symbol = yfi.Ticker(ticker)\n",
    "    info = symbol.info\n",
    "\n",
    "    results.append({key: info[key] if key in info else None for key in col_list})\n",
    "\n",
    "    time.sleep(1)\n",
    "    \n",
    "pd.DataFrame(results)"
   ],
   "metadata": {
    "collapsed": false,
    "ExecuteTime": {
     "end_time": "2023-11-17T22:25:33.958365100Z",
     "start_time": "2023-11-17T22:25:30.892802100Z"
    }
   },
   "id": "cd7458bd9a573ac3"
  },
  {
   "cell_type": "code",
   "execution_count": 115,
   "outputs": [
    {
     "name": "stdout",
     "output_type": "stream",
     "text": [
      "[*********************100%%**********************]  114 of 114 completed\n"
     ]
    },
    {
     "name": "stderr",
     "output_type": "stream",
     "text": [
      "\n",
      "7 Failed downloads:\n",
      "['TC1.DE', 'SNH.DE', 'SAE.DE', 'LEO.DE', 'VTWR.DE']: Exception('%ticker%: No timezone found, symbol may be delisted')\n",
      "['ZO1.DE', 'HBM.DE']: Exception('%ticker%: No price data found, symbol may be delisted (1d 2023-11-01 -> 2023-11-18)')\n"
     ]
    },
    {
     "data": {
      "text/plain": "           Date   Symbol   Adj Close       Close        High         Low  \\\n0    2023-11-01   1U1.DE   16.139999   16.139999   16.340000   16.100000   \n1    2023-11-01  8TRA.DE   18.450001   18.450001   18.830000   18.330000   \n2    2023-11-01   AAD.DE  110.400002  110.400002  111.800003  108.800003   \n3    2023-11-01   ADJ.DE    0.416000    0.416000    0.420000    0.416000   \n4    2023-11-01   ADV.DE   19.940001   19.940001   19.959999   19.920000   \n...         ...      ...         ...         ...         ...         ...   \n1386 2023-11-17   WAC.DE   17.860001   17.860001   17.940001   17.459999   \n1387 2023-11-17   WAF.DE   86.150002   86.150002   87.099998   85.000000   \n1388 2023-11-17   WCH.DE  120.800003  120.800003  122.050003  118.800003   \n1389 2023-11-17   WSU.DE   33.799999   33.799999   34.099998   33.599998   \n1390 2023-11-17   WUW.DE   13.480000   13.480000   13.740000   13.480000   \n\n            Open    Volume  \n0      16.340000   33982.0  \n1      18.740000   64825.0  \n2     109.800003    5012.0  \n3       0.419800   29874.0  \n4      19.920000   15123.0  \n...          ...       ...  \n1386   17.459999   31776.0  \n1387   86.000000   31867.0  \n1388  119.150002  113120.0  \n1389   33.900002    5244.0  \n1390   13.600000   52973.0  \n\n[1391 rows x 8 columns]",
      "text/html": "<div>\n<style scoped>\n    .dataframe tbody tr th:only-of-type {\n        vertical-align: middle;\n    }\n\n    .dataframe tbody tr th {\n        vertical-align: top;\n    }\n\n    .dataframe thead th {\n        text-align: right;\n    }\n</style>\n<table border=\"1\" class=\"dataframe\">\n  <thead>\n    <tr style=\"text-align: right;\">\n      <th></th>\n      <th>Date</th>\n      <th>Symbol</th>\n      <th>Adj Close</th>\n      <th>Close</th>\n      <th>High</th>\n      <th>Low</th>\n      <th>Open</th>\n      <th>Volume</th>\n    </tr>\n  </thead>\n  <tbody>\n    <tr>\n      <th>0</th>\n      <td>2023-11-01</td>\n      <td>1U1.DE</td>\n      <td>16.139999</td>\n      <td>16.139999</td>\n      <td>16.340000</td>\n      <td>16.100000</td>\n      <td>16.340000</td>\n      <td>33982.0</td>\n    </tr>\n    <tr>\n      <th>1</th>\n      <td>2023-11-01</td>\n      <td>8TRA.DE</td>\n      <td>18.450001</td>\n      <td>18.450001</td>\n      <td>18.830000</td>\n      <td>18.330000</td>\n      <td>18.740000</td>\n      <td>64825.0</td>\n    </tr>\n    <tr>\n      <th>2</th>\n      <td>2023-11-01</td>\n      <td>AAD.DE</td>\n      <td>110.400002</td>\n      <td>110.400002</td>\n      <td>111.800003</td>\n      <td>108.800003</td>\n      <td>109.800003</td>\n      <td>5012.0</td>\n    </tr>\n    <tr>\n      <th>3</th>\n      <td>2023-11-01</td>\n      <td>ADJ.DE</td>\n      <td>0.416000</td>\n      <td>0.416000</td>\n      <td>0.420000</td>\n      <td>0.416000</td>\n      <td>0.419800</td>\n      <td>29874.0</td>\n    </tr>\n    <tr>\n      <th>4</th>\n      <td>2023-11-01</td>\n      <td>ADV.DE</td>\n      <td>19.940001</td>\n      <td>19.940001</td>\n      <td>19.959999</td>\n      <td>19.920000</td>\n      <td>19.920000</td>\n      <td>15123.0</td>\n    </tr>\n    <tr>\n      <th>...</th>\n      <td>...</td>\n      <td>...</td>\n      <td>...</td>\n      <td>...</td>\n      <td>...</td>\n      <td>...</td>\n      <td>...</td>\n      <td>...</td>\n    </tr>\n    <tr>\n      <th>1386</th>\n      <td>2023-11-17</td>\n      <td>WAC.DE</td>\n      <td>17.860001</td>\n      <td>17.860001</td>\n      <td>17.940001</td>\n      <td>17.459999</td>\n      <td>17.459999</td>\n      <td>31776.0</td>\n    </tr>\n    <tr>\n      <th>1387</th>\n      <td>2023-11-17</td>\n      <td>WAF.DE</td>\n      <td>86.150002</td>\n      <td>86.150002</td>\n      <td>87.099998</td>\n      <td>85.000000</td>\n      <td>86.000000</td>\n      <td>31867.0</td>\n    </tr>\n    <tr>\n      <th>1388</th>\n      <td>2023-11-17</td>\n      <td>WCH.DE</td>\n      <td>120.800003</td>\n      <td>120.800003</td>\n      <td>122.050003</td>\n      <td>118.800003</td>\n      <td>119.150002</td>\n      <td>113120.0</td>\n    </tr>\n    <tr>\n      <th>1389</th>\n      <td>2023-11-17</td>\n      <td>WSU.DE</td>\n      <td>33.799999</td>\n      <td>33.799999</td>\n      <td>34.099998</td>\n      <td>33.599998</td>\n      <td>33.900002</td>\n      <td>5244.0</td>\n    </tr>\n    <tr>\n      <th>1390</th>\n      <td>2023-11-17</td>\n      <td>WUW.DE</td>\n      <td>13.480000</td>\n      <td>13.480000</td>\n      <td>13.740000</td>\n      <td>13.480000</td>\n      <td>13.600000</td>\n      <td>52973.0</td>\n    </tr>\n  </tbody>\n</table>\n<p>1391 rows × 8 columns</p>\n</div>"
     },
     "execution_count": 115,
     "metadata": {},
     "output_type": "execute_result"
    }
   ],
   "source": [
    "from pca_dax import data_handler as dh\n",
    "\n",
    "df = dh.DataHandler(\n",
    "    start_date='2023-11-01'\n",
    ")\n",
    "\n",
    "df.fetch_stocks_from_api()"
   ],
   "metadata": {
    "collapsed": false,
    "ExecuteTime": {
     "end_time": "2023-11-18T01:48:10.430064500Z",
     "start_time": "2023-11-18T01:48:06.992331900Z"
    }
   },
   "id": "a624acc518aa4ae3"
  },
  {
   "cell_type": "code",
   "execution_count": 61,
   "outputs": [
    {
     "data": {
      "text/plain": "              1COV.DE     1U1.DE    8TRA.DE      AAD.DE  ADJ.DE      ADS.DE  \\\ndate                                                                          \n2023-11-01  47.549999  16.139999  18.450001  110.400002  0.4160  167.000000   \n2023-11-02  47.450001  16.379999  18.709999  112.599998  0.4252  171.179993   \n2023-11-03  47.540001  16.459999  19.030001  114.599998  0.4002  170.479996   \n2023-11-06  46.889999  16.420000  18.950001  113.400002  0.4022  172.000000   \n2023-11-07  47.220001  17.059999  18.580000  114.400002  0.4010  171.880005   \n\n               ADV.DE     AFX.DE      AIR.DE    AIXA.DE  ...     VBK.DE  \\\ndate                                                     ...              \n2023-11-01  19.940001  80.099998  127.959999  26.020000  ...  30.590000   \n2023-11-02  19.920000  82.459999  129.139999  27.120001  ...  32.290001   \n2023-11-03  20.000000  84.820000  129.039993  27.740000  ...  32.349998   \n2023-11-06  19.980000  84.120003  128.419998  27.980000  ...  31.500000   \n2023-11-07  19.920000  83.699997  129.220001  27.730000  ...  30.309999   \n\n               VNA.DE     VOS.DE     VOW3.DE     WAC.DE     WAF.DE  \\\ndate                                                                 \n2023-11-01  21.910000  37.099998   99.790001  17.200001  79.500000   \n2023-11-02  22.740000  37.650002  102.980003  17.780001  83.250000   \n2023-11-03  24.510000  37.849998  105.040001  18.299999  85.199997   \n2023-11-06  23.180000  38.049999  105.059998  17.940001  85.199997   \n2023-11-07  23.709999  37.650002  104.199997  17.900000  84.199997   \n\n                WCH.DE     WSU.DE  WUW.DE     ZAL.DE  \ndate                                                  \n2023-11-01  110.050003  30.000000   13.04  22.260000  \n2023-11-02  114.949997  31.700001   13.20  20.860001  \n2023-11-03  116.150002  32.000000   13.16  22.500000  \n2023-11-06  117.150002  33.400002   13.12  22.490000  \n2023-11-07  116.050003  32.549999   13.20  22.709999  \n\n[5 rows x 145 columns]",
      "text/html": "<div>\n<style scoped>\n    .dataframe tbody tr th:only-of-type {\n        vertical-align: middle;\n    }\n\n    .dataframe tbody tr th {\n        vertical-align: top;\n    }\n\n    .dataframe thead th {\n        text-align: right;\n    }\n</style>\n<table border=\"1\" class=\"dataframe\">\n  <thead>\n    <tr style=\"text-align: right;\">\n      <th></th>\n      <th>1COV.DE</th>\n      <th>1U1.DE</th>\n      <th>8TRA.DE</th>\n      <th>AAD.DE</th>\n      <th>ADJ.DE</th>\n      <th>ADS.DE</th>\n      <th>ADV.DE</th>\n      <th>AFX.DE</th>\n      <th>AIR.DE</th>\n      <th>AIXA.DE</th>\n      <th>...</th>\n      <th>VBK.DE</th>\n      <th>VNA.DE</th>\n      <th>VOS.DE</th>\n      <th>VOW3.DE</th>\n      <th>WAC.DE</th>\n      <th>WAF.DE</th>\n      <th>WCH.DE</th>\n      <th>WSU.DE</th>\n      <th>WUW.DE</th>\n      <th>ZAL.DE</th>\n    </tr>\n    <tr>\n      <th>date</th>\n      <th></th>\n      <th></th>\n      <th></th>\n      <th></th>\n      <th></th>\n      <th></th>\n      <th></th>\n      <th></th>\n      <th></th>\n      <th></th>\n      <th></th>\n      <th></th>\n      <th></th>\n      <th></th>\n      <th></th>\n      <th></th>\n      <th></th>\n      <th></th>\n      <th></th>\n      <th></th>\n      <th></th>\n    </tr>\n  </thead>\n  <tbody>\n    <tr>\n      <th>2023-11-01</th>\n      <td>47.549999</td>\n      <td>16.139999</td>\n      <td>18.450001</td>\n      <td>110.400002</td>\n      <td>0.4160</td>\n      <td>167.000000</td>\n      <td>19.940001</td>\n      <td>80.099998</td>\n      <td>127.959999</td>\n      <td>26.020000</td>\n      <td>...</td>\n      <td>30.590000</td>\n      <td>21.910000</td>\n      <td>37.099998</td>\n      <td>99.790001</td>\n      <td>17.200001</td>\n      <td>79.500000</td>\n      <td>110.050003</td>\n      <td>30.000000</td>\n      <td>13.04</td>\n      <td>22.260000</td>\n    </tr>\n    <tr>\n      <th>2023-11-02</th>\n      <td>47.450001</td>\n      <td>16.379999</td>\n      <td>18.709999</td>\n      <td>112.599998</td>\n      <td>0.4252</td>\n      <td>171.179993</td>\n      <td>19.920000</td>\n      <td>82.459999</td>\n      <td>129.139999</td>\n      <td>27.120001</td>\n      <td>...</td>\n      <td>32.290001</td>\n      <td>22.740000</td>\n      <td>37.650002</td>\n      <td>102.980003</td>\n      <td>17.780001</td>\n      <td>83.250000</td>\n      <td>114.949997</td>\n      <td>31.700001</td>\n      <td>13.20</td>\n      <td>20.860001</td>\n    </tr>\n    <tr>\n      <th>2023-11-03</th>\n      <td>47.540001</td>\n      <td>16.459999</td>\n      <td>19.030001</td>\n      <td>114.599998</td>\n      <td>0.4002</td>\n      <td>170.479996</td>\n      <td>20.000000</td>\n      <td>84.820000</td>\n      <td>129.039993</td>\n      <td>27.740000</td>\n      <td>...</td>\n      <td>32.349998</td>\n      <td>24.510000</td>\n      <td>37.849998</td>\n      <td>105.040001</td>\n      <td>18.299999</td>\n      <td>85.199997</td>\n      <td>116.150002</td>\n      <td>32.000000</td>\n      <td>13.16</td>\n      <td>22.500000</td>\n    </tr>\n    <tr>\n      <th>2023-11-06</th>\n      <td>46.889999</td>\n      <td>16.420000</td>\n      <td>18.950001</td>\n      <td>113.400002</td>\n      <td>0.4022</td>\n      <td>172.000000</td>\n      <td>19.980000</td>\n      <td>84.120003</td>\n      <td>128.419998</td>\n      <td>27.980000</td>\n      <td>...</td>\n      <td>31.500000</td>\n      <td>23.180000</td>\n      <td>38.049999</td>\n      <td>105.059998</td>\n      <td>17.940001</td>\n      <td>85.199997</td>\n      <td>117.150002</td>\n      <td>33.400002</td>\n      <td>13.12</td>\n      <td>22.490000</td>\n    </tr>\n    <tr>\n      <th>2023-11-07</th>\n      <td>47.220001</td>\n      <td>17.059999</td>\n      <td>18.580000</td>\n      <td>114.400002</td>\n      <td>0.4010</td>\n      <td>171.880005</td>\n      <td>19.920000</td>\n      <td>83.699997</td>\n      <td>129.220001</td>\n      <td>27.730000</td>\n      <td>...</td>\n      <td>30.309999</td>\n      <td>23.709999</td>\n      <td>37.650002</td>\n      <td>104.199997</td>\n      <td>17.900000</td>\n      <td>84.199997</td>\n      <td>116.050003</td>\n      <td>32.549999</td>\n      <td>13.20</td>\n      <td>22.709999</td>\n    </tr>\n  </tbody>\n</table>\n<p>5 rows × 145 columns</p>\n</div>"
     },
     "execution_count": 61,
     "metadata": {},
     "output_type": "execute_result"
    }
   ],
   "source": [
    "import pca_dax\n",
    "\n",
    "importlib.reload(pca_dax.data_handler)\n",
    "\n",
    "data = dh.DataHandler(\n",
    "    start_date='2023-11-01'\n",
    ")\n",
    "\n",
    "df = data.fetch_stocks_from_db()\n",
    "\n",
    "df.head()"
   ],
   "metadata": {
    "collapsed": false,
    "ExecuteTime": {
     "end_time": "2023-11-19T14:43:40.110064900Z",
     "start_time": "2023-11-19T14:43:39.093205Z"
    }
   },
   "id": "155da3b68b6db180"
  },
  {
   "cell_type": "code",
   "execution_count": 55,
   "outputs": [],
   "source": [
    "dax = pd.read_html(\n",
    "    'https://en.wikipedia.org/wiki/DAX'\n",
    "    , attrs={'id': 'constituents'}\n",
    ")[0]['Ticker'].to_list()\n",
    "\n",
    "mdax = pd.read_html(\n",
    "    'https://en.wikipedia.org/wiki/MDAX'\n",
    "    , attrs={'id': 'constituents'}\n",
    ")[0]['Symbol'].to_list()\n",
    "\n",
    "sdax = pd.read_html(\n",
    "    'https://en.wikipedia.org/wiki/SDAX'\n",
    "    , attrs={'id': 'constituents'}\n",
    ")[0]['Symbol'].to_list()\n",
    "\n",
    "tickers = set([x + '.DE' if '.DE' not in x else x for x in sum([dax, mdax, sdax], [])])"
   ],
   "metadata": {
    "collapsed": false,
    "ExecuteTime": {
     "end_time": "2023-11-19T13:42:08.894900Z",
     "start_time": "2023-11-19T13:42:07.410329500Z"
    }
   },
   "id": "d062c1c44b7dbcab"
  },
  {
   "cell_type": "code",
   "execution_count": 56,
   "outputs": [],
   "source": [
    "with db.create_connection() as conn:\n",
    "    df_info = pd.read_sql(\n",
    "        f\"\"\"\n",
    "            SELECT *\n",
    "            FROM companies\n",
    "            WHERE symbol IN {tuple(tickers)}\n",
    "        \"\"\"\n",
    "        , con=conn\n",
    "    )"
   ],
   "metadata": {
    "collapsed": false,
    "ExecuteTime": {
     "end_time": "2023-11-19T13:42:33.048866800Z",
     "start_time": "2023-11-19T13:42:33.032824200Z"
    }
   },
   "id": "e2f9d97ba577b347"
  },
  {
   "cell_type": "code",
   "execution_count": 57,
   "outputs": [
    {
     "data": {
      "text/plain": "      id   symbol                       name exchange  \\\n0     67  1COV.DE          COVESTRO AG  O.N.      GER   \n1      5   1U1.DE           1+1 AG  INH O.N.      GER   \n2     68  8TRA.DE        TRATON SE  INH O.N.      GER   \n3     75   AAD.DE            AMADEUS FIRE AG      GER   \n4     19   ADJ.DE       ADLER GROUP S.A. NPV      GER   \n..   ...      ...                        ...      ...   \n145   89   WCH.DE        WACKER CHEMIE  O.N.      GER   \n146   91   WSU.DE            WASHTEC AG O.N.      GER   \n147  112   WUW.DE  WUESTENROT+WUERTT.AG O.N.      GER   \n148   56   ZAL.DE                 ZALANDO SE      GER   \n149  132   ZO1.DE                 ZOOPLUS AG      GER   \n\n                                industry                  sector  \\\n0                    Specialty Chemicals         Basic Materials   \n1                       Telecom Services  Communication Services   \n2    Farm & Heavy Construction Machinery             Industrials   \n3         Staffing & Employment Services             Industrials   \n4                   Real Estate Services             Real Estate   \n..                                   ...                     ...   \n145                  Specialty Chemicals         Basic Materials   \n146       Specialty Industrial Machinery             Industrials   \n147                     Insurance - Life      Financial Services   \n148                      Internet Retail       Consumer Cyclical   \n149                                                                \n\n       market_cap  book_value   beta  \n0    9.059521e+09      37.321  1.369  \n1    2.827852e+09      33.043  0.512  \n2    9.510001e+09      32.178  1.723  \n3    6.873108e+08      24.633  1.733  \n4    6.067039e+07       2.958  1.547  \n..            ...         ...    ...  \n145  7.925725e+09      89.581  1.355  \n146  4.523217e+08       5.666  0.848  \n147  1.263280e+09      52.749  0.832  \n148  5.971940e+09       8.795  1.798  \n149  3.345816e+09      15.862  0.186  \n\n[150 rows x 9 columns]",
      "text/html": "<div>\n<style scoped>\n    .dataframe tbody tr th:only-of-type {\n        vertical-align: middle;\n    }\n\n    .dataframe tbody tr th {\n        vertical-align: top;\n    }\n\n    .dataframe thead th {\n        text-align: right;\n    }\n</style>\n<table border=\"1\" class=\"dataframe\">\n  <thead>\n    <tr style=\"text-align: right;\">\n      <th></th>\n      <th>id</th>\n      <th>symbol</th>\n      <th>name</th>\n      <th>exchange</th>\n      <th>industry</th>\n      <th>sector</th>\n      <th>market_cap</th>\n      <th>book_value</th>\n      <th>beta</th>\n    </tr>\n  </thead>\n  <tbody>\n    <tr>\n      <th>0</th>\n      <td>67</td>\n      <td>1COV.DE</td>\n      <td>COVESTRO AG  O.N.</td>\n      <td>GER</td>\n      <td>Specialty Chemicals</td>\n      <td>Basic Materials</td>\n      <td>9.059521e+09</td>\n      <td>37.321</td>\n      <td>1.369</td>\n    </tr>\n    <tr>\n      <th>1</th>\n      <td>5</td>\n      <td>1U1.DE</td>\n      <td>1+1 AG  INH O.N.</td>\n      <td>GER</td>\n      <td>Telecom Services</td>\n      <td>Communication Services</td>\n      <td>2.827852e+09</td>\n      <td>33.043</td>\n      <td>0.512</td>\n    </tr>\n    <tr>\n      <th>2</th>\n      <td>68</td>\n      <td>8TRA.DE</td>\n      <td>TRATON SE  INH O.N.</td>\n      <td>GER</td>\n      <td>Farm &amp; Heavy Construction Machinery</td>\n      <td>Industrials</td>\n      <td>9.510001e+09</td>\n      <td>32.178</td>\n      <td>1.723</td>\n    </tr>\n    <tr>\n      <th>3</th>\n      <td>75</td>\n      <td>AAD.DE</td>\n      <td>AMADEUS FIRE AG</td>\n      <td>GER</td>\n      <td>Staffing &amp; Employment Services</td>\n      <td>Industrials</td>\n      <td>6.873108e+08</td>\n      <td>24.633</td>\n      <td>1.733</td>\n    </tr>\n    <tr>\n      <th>4</th>\n      <td>19</td>\n      <td>ADJ.DE</td>\n      <td>ADLER GROUP S.A. NPV</td>\n      <td>GER</td>\n      <td>Real Estate Services</td>\n      <td>Real Estate</td>\n      <td>6.067039e+07</td>\n      <td>2.958</td>\n      <td>1.547</td>\n    </tr>\n    <tr>\n      <th>...</th>\n      <td>...</td>\n      <td>...</td>\n      <td>...</td>\n      <td>...</td>\n      <td>...</td>\n      <td>...</td>\n      <td>...</td>\n      <td>...</td>\n      <td>...</td>\n    </tr>\n    <tr>\n      <th>145</th>\n      <td>89</td>\n      <td>WCH.DE</td>\n      <td>WACKER CHEMIE  O.N.</td>\n      <td>GER</td>\n      <td>Specialty Chemicals</td>\n      <td>Basic Materials</td>\n      <td>7.925725e+09</td>\n      <td>89.581</td>\n      <td>1.355</td>\n    </tr>\n    <tr>\n      <th>146</th>\n      <td>91</td>\n      <td>WSU.DE</td>\n      <td>WASHTEC AG O.N.</td>\n      <td>GER</td>\n      <td>Specialty Industrial Machinery</td>\n      <td>Industrials</td>\n      <td>4.523217e+08</td>\n      <td>5.666</td>\n      <td>0.848</td>\n    </tr>\n    <tr>\n      <th>147</th>\n      <td>112</td>\n      <td>WUW.DE</td>\n      <td>WUESTENROT+WUERTT.AG O.N.</td>\n      <td>GER</td>\n      <td>Insurance - Life</td>\n      <td>Financial Services</td>\n      <td>1.263280e+09</td>\n      <td>52.749</td>\n      <td>0.832</td>\n    </tr>\n    <tr>\n      <th>148</th>\n      <td>56</td>\n      <td>ZAL.DE</td>\n      <td>ZALANDO SE</td>\n      <td>GER</td>\n      <td>Internet Retail</td>\n      <td>Consumer Cyclical</td>\n      <td>5.971940e+09</td>\n      <td>8.795</td>\n      <td>1.798</td>\n    </tr>\n    <tr>\n      <th>149</th>\n      <td>132</td>\n      <td>ZO1.DE</td>\n      <td>ZOOPLUS AG</td>\n      <td>GER</td>\n      <td></td>\n      <td></td>\n      <td>3.345816e+09</td>\n      <td>15.862</td>\n      <td>0.186</td>\n    </tr>\n  </tbody>\n</table>\n<p>150 rows × 9 columns</p>\n</div>"
     },
     "execution_count": 57,
     "metadata": {},
     "output_type": "execute_result"
    }
   ],
   "source": [
    "df_info"
   ],
   "metadata": {
    "collapsed": false,
    "ExecuteTime": {
     "end_time": "2023-11-19T13:42:38.444908900Z",
     "start_time": "2023-11-19T13:42:38.415796900Z"
    }
   },
   "id": "83ab29b6f93ab9c9"
  },
  {
   "cell_type": "code",
   "execution_count": 59,
   "outputs": [],
   "source": [
    "importlib.reload(pca_dax.data_handler)\n",
    "\n",
    "info_df = data.fetch_info_from_db()\n",
    "\n",
    "info_df"
   ],
   "metadata": {
    "collapsed": false,
    "ExecuteTime": {
     "end_time": "2023-11-19T13:45:09.275338500Z",
     "start_time": "2023-11-19T13:45:09.256052800Z"
    }
   },
   "id": "f1e65789148894e0"
  },
  {
   "cell_type": "code",
   "execution_count": 63,
   "outputs": [
    {
     "data": {
      "text/plain": "False"
     },
     "execution_count": 63,
     "metadata": {},
     "output_type": "execute_result"
    }
   ],
   "source": [
    "df.isna().any().any()"
   ],
   "metadata": {
    "collapsed": false,
    "ExecuteTime": {
     "end_time": "2023-11-19T14:44:21.807518300Z",
     "start_time": "2023-11-19T14:44:21.786303300Z"
    }
   },
   "id": "31a94d8b15fa6905"
  },
  {
   "cell_type": "code",
   "execution_count": 70,
   "outputs": [],
   "source": [
    "importlib.reload(pca_dax.data_handler)\n",
    "\n",
    "df = dh.DataHandler(start_date='2023-01-01'\n",
    ").fetch_stocks_from_db(format='long')"
   ],
   "metadata": {
    "collapsed": false,
    "ExecuteTime": {
     "end_time": "2023-11-19T23:41:26.156172800Z",
     "start_time": "2023-11-19T23:41:25.234432300Z"
    }
   },
   "id": "d30eda4b677dceaa"
  },
  {
   "cell_type": "code",
   "execution_count": 71,
   "outputs": [
    {
     "data": {
      "text/plain": "             symbol  adj_close\ndate                          \n2023-01-02  1COV.DE  38.259998\n2023-01-03  1COV.DE  39.580002\n2023-01-04  1COV.DE  41.470001\n2023-01-05  1COV.DE  41.709999\n2023-01-06  1COV.DE  42.369999\n...             ...        ...\n2023-11-13   ZAL.DE  21.170000\n2023-11-14   ZAL.DE  23.410000\n2023-11-15   ZAL.DE  24.129999\n2023-11-16   ZAL.DE  23.020000\n2023-11-17   ZAL.DE  23.059999\n\n[31893 rows x 2 columns]",
      "text/html": "<div>\n<style scoped>\n    .dataframe tbody tr th:only-of-type {\n        vertical-align: middle;\n    }\n\n    .dataframe tbody tr th {\n        vertical-align: top;\n    }\n\n    .dataframe thead th {\n        text-align: right;\n    }\n</style>\n<table border=\"1\" class=\"dataframe\">\n  <thead>\n    <tr style=\"text-align: right;\">\n      <th></th>\n      <th>symbol</th>\n      <th>adj_close</th>\n    </tr>\n    <tr>\n      <th>date</th>\n      <th></th>\n      <th></th>\n    </tr>\n  </thead>\n  <tbody>\n    <tr>\n      <th>2023-01-02</th>\n      <td>1COV.DE</td>\n      <td>38.259998</td>\n    </tr>\n    <tr>\n      <th>2023-01-03</th>\n      <td>1COV.DE</td>\n      <td>39.580002</td>\n    </tr>\n    <tr>\n      <th>2023-01-04</th>\n      <td>1COV.DE</td>\n      <td>41.470001</td>\n    </tr>\n    <tr>\n      <th>2023-01-05</th>\n      <td>1COV.DE</td>\n      <td>41.709999</td>\n    </tr>\n    <tr>\n      <th>2023-01-06</th>\n      <td>1COV.DE</td>\n      <td>42.369999</td>\n    </tr>\n    <tr>\n      <th>...</th>\n      <td>...</td>\n      <td>...</td>\n    </tr>\n    <tr>\n      <th>2023-11-13</th>\n      <td>ZAL.DE</td>\n      <td>21.170000</td>\n    </tr>\n    <tr>\n      <th>2023-11-14</th>\n      <td>ZAL.DE</td>\n      <td>23.410000</td>\n    </tr>\n    <tr>\n      <th>2023-11-15</th>\n      <td>ZAL.DE</td>\n      <td>24.129999</td>\n    </tr>\n    <tr>\n      <th>2023-11-16</th>\n      <td>ZAL.DE</td>\n      <td>23.020000</td>\n    </tr>\n    <tr>\n      <th>2023-11-17</th>\n      <td>ZAL.DE</td>\n      <td>23.059999</td>\n    </tr>\n  </tbody>\n</table>\n<p>31893 rows × 2 columns</p>\n</div>"
     },
     "execution_count": 71,
     "metadata": {},
     "output_type": "execute_result"
    }
   ],
   "source": [
    "df"
   ],
   "metadata": {
    "collapsed": false,
    "ExecuteTime": {
     "end_time": "2023-11-19T23:41:28.997724300Z",
     "start_time": "2023-11-19T23:41:28.954209200Z"
    }
   },
   "id": "a3440c6f4e1cec7e"
  },
  {
   "cell_type": "code",
   "execution_count": 68,
   "outputs": [
    {
     "data": {
      "text/plain": "<Axes: xlabel='date', ylabel='SAP.DE'>"
     },
     "execution_count": 68,
     "metadata": {},
     "output_type": "execute_result"
    },
    {
     "data": {
      "text/plain": "<Figure size 640x480 with 1 Axes>",
      "image/png": "[encoded data removed]"
     },
     "metadata": {},
     "output_type": "display_data"
    }
   ],
   "source": [
    "import seaborn as sns\n",
    "\n",
    "sns.lineplot(data=df, x=df.index, y='SAP.DE')"
   ],
   "metadata": {
    "collapsed": false,
    "ExecuteTime": {
     "end_time": "2023-11-19T21:24:03.555886200Z",
     "start_time": "2023-11-19T21:24:01.191204500Z"
    }
   },
   "id": "fd23a94fa397b87"
  },
  {
   "cell_type": "code",
   "execution_count": 74,
   "outputs": [],
   "source": [
    "df = dh.DataHandler(\n",
    "            start_date='2023-01-01'\n",
    "        ).fetch_stocks_from_db(format='long', price_type='open, high, low, close')"
   ],
   "metadata": {
    "collapsed": false,
    "ExecuteTime": {
     "end_time": "2023-11-20T00:49:20.431893300Z",
     "start_time": "2023-11-20T00:49:19.172876200Z"
    }
   },
   "id": "ce8f34d30f61bb87"
  },
  {
   "cell_type": "code",
   "execution_count": 75,
   "outputs": [
    {
     "data": {
      "text/plain": "            symbol        open        high         low       close\ndate                                                              \n2023-01-02  SAP.DE   97.169998   97.540001   96.440002   97.419998\n2023-01-03  SAP.DE   97.339996   99.199997   97.099998   98.510002\n2023-01-04  SAP.DE   98.800003  101.099998   98.599998  100.699997\n2023-01-05  SAP.DE  100.139999  101.940002  100.139999  100.839996\n2023-01-06  SAP.DE  100.680000  102.339996  100.220001  102.339996\n...            ...         ...         ...         ...         ...\n2023-11-13  SAP.DE  134.839996  135.419998  134.360001  135.419998\n2023-11-14  SAP.DE  135.119995  137.320007  134.500000  136.259995\n2023-11-15  SAP.DE  135.619995  137.259995  135.220001  137.259995\n2023-11-16  SAP.DE  136.679993  137.500000  136.440002  136.440002\n2023-11-17  SAP.DE  136.639999  137.759995  136.559998  137.220001\n\n[222 rows x 5 columns]",
      "text/html": "<div>\n<style scoped>\n    .dataframe tbody tr th:only-of-type {\n        vertical-align: middle;\n    }\n\n    .dataframe tbody tr th {\n        vertical-align: top;\n    }\n\n    .dataframe thead th {\n        text-align: right;\n    }\n</style>\n<table border=\"1\" class=\"dataframe\">\n  <thead>\n    <tr style=\"text-align: right;\">\n      <th></th>\n      <th>symbol</th>\n      <th>open</th>\n      <th>high</th>\n      <th>low</th>\n      <th>close</th>\n    </tr>\n    <tr>\n      <th>date</th>\n      <th></th>\n      <th></th>\n      <th></th>\n      <th></th>\n      <th></th>\n    </tr>\n  </thead>\n  <tbody>\n    <tr>\n      <th>2023-01-02</th>\n      <td>SAP.DE</td>\n      <td>97.169998</td>\n      <td>97.540001</td>\n      <td>96.440002</td>\n      <td>97.419998</td>\n    </tr>\n    <tr>\n      <th>2023-01-03</th>\n      <td>SAP.DE</td>\n      <td>97.339996</td>\n      <td>99.199997</td>\n      <td>97.099998</td>\n      <td>98.510002</td>\n    </tr>\n    <tr>\n      <th>2023-01-04</th>\n      <td>SAP.DE</td>\n      <td>98.800003</td>\n      <td>101.099998</td>\n      <td>98.599998</td>\n      <td>100.699997</td>\n    </tr>\n    <tr>\n      <th>2023-01-05</th>\n      <td>SAP.DE</td>\n      <td>100.139999</td>\n      <td>101.940002</td>\n      <td>100.139999</td>\n      <td>100.839996</td>\n    </tr>\n    <tr>\n      <th>2023-01-06</th>\n      <td>SAP.DE</td>\n      <td>100.680000</td>\n      <td>102.339996</td>\n      <td>100.220001</td>\n      <td>102.339996</td>\n    </tr>\n    <tr>\n      <th>...</th>\n      <td>...</td>\n      <td>...</td>\n      <td>...</td>\n      <td>...</td>\n      <td>...</td>\n    </tr>\n    <tr>\n      <th>2023-11-13</th>\n      <td>SAP.DE</td>\n      <td>134.839996</td>\n      <td>135.419998</td>\n      <td>134.360001</td>\n      <td>135.419998</td>\n    </tr>\n    <tr>\n      <th>2023-11-14</th>\n      <td>SAP.DE</td>\n      <td>135.119995</td>\n      <td>137.320007</td>\n      <td>134.500000</td>\n      <td>136.259995</td>\n    </tr>\n    <tr>\n      <th>2023-11-15</th>\n      <td>SAP.DE</td>\n      <td>135.619995</td>\n      <td>137.259995</td>\n      <td>135.220001</td>\n      <td>137.259995</td>\n    </tr>\n    <tr>\n      <th>2023-11-16</th>\n      <td>SAP.DE</td>\n      <td>136.679993</td>\n      <td>137.500000</td>\n      <td>136.440002</td>\n      <td>136.440002</td>\n    </tr>\n    <tr>\n      <th>2023-11-17</th>\n      <td>SAP.DE</td>\n      <td>136.639999</td>\n      <td>137.759995</td>\n      <td>136.559998</td>\n      <td>137.220001</td>\n    </tr>\n  </tbody>\n</table>\n<p>222 rows × 5 columns</p>\n</div>"
     },
     "execution_count": 75,
     "metadata": {},
     "output_type": "execute_result"
    }
   ],
   "source": [
    "selected_stock = ['SAP.DE']\n",
    "\n",
    "df[df.symbol.isin(selected_stock)]"
   ],
   "metadata": {
    "collapsed": false,
    "ExecuteTime": {
     "end_time": "2023-11-20T00:49:23.115280600Z",
     "start_time": "2023-11-20T00:49:23.088277200Z"
    }
   },
   "id": "984476d14adbb74a"
  }
 ],
 "metadata": {
  "kernelspec": {
   "display_name": "Python 3",
   "language": "python",
   "name": "python3"
  },
  "language_info": {
   "codemirror_mode": {
    "name": "ipython",
    "version": 2
   },
   "file_extension": ".py",
   "mimetype": "text/x-python",
   "name": "python",
   "nbconvert_exporter": "python",
   "pygments_lexer": "ipython2",
   "version": "2.7.6"
  }
 },
 "nbformat": 4,
 "nbformat_minor": 5
}
